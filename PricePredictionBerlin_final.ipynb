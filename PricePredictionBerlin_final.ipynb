{
 "cells": [
  {
   "cell_type": "code",
   "execution_count": 1,
   "metadata": {},
   "outputs": [],
   "source": [
    "# importing the necessary libraries\n",
    "import pandas as pd\n",
    "from geopy.distance import great_circle\n",
    "import warnings\n",
    "warnings.filterwarnings('ignore')\n",
    "import numpy as np\n",
    "import operator\n",
    "from math import sqrt\n",
    "from sklearn.ensemble import GradientBoostingRegressor\n",
    "from sklearn.ensemble import RandomForestRegressor\n",
    "from sklearn.linear_model import LinearRegression\n",
    "from sklearn.preprocessing import MinMaxScaler\n",
    "import re\n",
    "import xgboost as xgb\n",
    "import seaborn as sns\n",
    "import matplotlib.pyplot as plt\n",
    "from sklearn.pipeline import Pipeline\n",
    "from sklearn.model_selection import GridSearchCV\n",
    "from sklearn.model_selection import train_test_split, cross_val_score\n",
    "from sklearn.metrics import mean_squared_error, mean_absolute_error, r2_score\n",
    "import pickle"
   ]
  },
  {
   "cell_type": "code",
   "execution_count": 2,
   "metadata": {},
   "outputs": [],
   "source": [
    "#Defining function for finding distance from berlin centre\n",
    "def distance_to_mid(lat, lon):\n",
    "    berlin_centre = (52.5027778,13.404166666666667)\n",
    "    accommodation = (lat,lon)\n",
    "    return great_circle(berlin_centre,accommodation).miles"
   ]
  },
  {
   "cell_type": "code",
   "execution_count": 3,
   "metadata": {},
   "outputs": [],
   "source": [
    "def minmaxscaling(X):\n",
    "    min_max=MinMaxScaler()\n",
    "    X_minmax=pd.DataFrame(min_max.fit_transform(X),index =X.index,columns = X.columns)\n",
    "    return X_minmax"
   ]
  },
  {
   "cell_type": "code",
   "execution_count": 4,
   "metadata": {},
   "outputs": [],
   "source": [
    "# Defining Error Metrics Functions\n",
    "rmse_dict = {}\n",
    "error_metric = pd.DataFrame({'r2_train': [],'r2_test': [],'rms_train':[],'rms_test': [],'mae_train': [],'mae_test':[],'mape_train':[],'mape_test':[]})\n",
    "\n",
    "def calc_error_metric(modelname, model, X_train_scale, y_train, X_test_scale, y_test):\n",
    "    global error_metric\n",
    "    y_train_predicted = model.predict(X_train)\n",
    "    y_test_predicted = model.predict(X_test)\n",
    "    \n",
    "    print(modelname)\n",
    "    #MAE, RMS, MAPE, R2\n",
    "    \n",
    "    r2_train = r2_score(y_train, y_train_predicted)\n",
    "    r2_test = r2_score(y_test, y_test_predicted)\n",
    "    \n",
    "    print('r2 = ' + str(r2_test))\n",
    "    \n",
    "    rms_train = sqrt(mean_squared_error(y_train, y_train_predicted))\n",
    "    rms_test = sqrt(mean_squared_error(y_test, y_test_predicted))\n",
    "    \n",
    "    print('RMSE %f' %(rms_test))\n",
    "    \n",
    "    mae_train = mean_absolute_error(y_train, y_train_predicted)\n",
    "    mae_test = mean_absolute_error(y_test, y_test_predicted)\n",
    "        \n",
    "    mape_train = np.mean(np.abs((y_train - y_train_predicted) / y_train)) * 100\n",
    "    mape_test = np.mean(np.abs((y_test - y_test_predicted) / y_test)) * 100\n",
    "        \n",
    "    rmse_dict[modelname] = rms_test\n",
    "        \n",
    "    df_local = pd.DataFrame({'Model':[modelname],\n",
    "                            'r2_train': [r2_train],\n",
    "                            'r2_test': [r2_test],\n",
    "                            'rms_train':[rms_train], \n",
    "                            'rms_test': [rms_test],\n",
    "                            'mae_train': [mae_train],\n",
    "                            'mae_test': [mae_test],\n",
    "                            'mape_train':[mape_train],\n",
    "                            'mape_test':[mape_test]})\n",
    "        \n",
    "    error_metric = pd.concat([error_metric, df_local])\n",
    "    return error_metric"
   ]
  },
  {
   "cell_type": "code",
   "execution_count": 5,
   "metadata": {},
   "outputs": [],
   "source": [
    "# reading csv files\n",
    "df = pd.read_csv('C:/Users/vedan/Desktop/Airbnb/listings_summary.csv')"
   ]
  },
  {
   "cell_type": "code",
   "execution_count": 6,
   "metadata": {},
   "outputs": [],
   "source": [
    "df_listings = df[['street','neighbourhood','city','state','zipcode','market','smart_location','country_code','country','latitude','longitude','property_type','room_type','accommodates','bathrooms','bedrooms','beds','bed_type','amenities','square_feet','price','weekly_price','monthly_price','security_deposit','cleaning_fee','guests_included','extra_people','minimum_nights','maximum_nights','has_availability','availability_30','availability_60','availability_90','availability_365','review_scores_rating','review_scores_accuracy','review_scores_cleanliness','review_scores_checkin','review_scores_communication','review_scores_location','review_scores_value','requires_license','instant_bookable','is_business_travel_ready','cancellation_policy','reviews_per_month']]"
   ]
  },
  {
   "cell_type": "code",
   "execution_count": 7,
   "metadata": {},
   "outputs": [
    {
     "data": {
      "text/plain": [
       "street                             0\n",
       "neighbourhood                   1131\n",
       "city                               5\n",
       "state                             84\n",
       "zipcode                          656\n",
       "market                            63\n",
       "smart_location                     0\n",
       "country_code                       0\n",
       "country                            0\n",
       "latitude                           0\n",
       "longitude                          0\n",
       "property_type                      0\n",
       "room_type                          0\n",
       "accommodates                       0\n",
       "bathrooms                         32\n",
       "bedrooms                          18\n",
       "beds                              40\n",
       "bed_type                           0\n",
       "amenities                          0\n",
       "square_feet                    22106\n",
       "price                              0\n",
       "weekly_price                   18871\n",
       "monthly_price                  19893\n",
       "security_deposit                9361\n",
       "cleaning_fee                    7146\n",
       "guests_included                    0\n",
       "extra_people                       0\n",
       "minimum_nights                     0\n",
       "maximum_nights                     0\n",
       "has_availability                   0\n",
       "availability_30                    0\n",
       "availability_60                    0\n",
       "availability_90                    0\n",
       "availability_365                   0\n",
       "review_scores_rating            4389\n",
       "review_scores_accuracy          4414\n",
       "review_scores_cleanliness       4411\n",
       "review_scores_checkin           4432\n",
       "review_scores_communication     4418\n",
       "review_scores_location          4431\n",
       "review_scores_value             4435\n",
       "requires_license                   0\n",
       "instant_bookable                   0\n",
       "is_business_travel_ready           0\n",
       "cancellation_policy                0\n",
       "reviews_per_month               3914\n",
       "dtype: int64"
      ]
     },
     "execution_count": 7,
     "metadata": {},
     "output_type": "execute_result"
    }
   ],
   "source": [
    "# checking the null values\n",
    "df_listings.isnull().sum()"
   ]
  },
  {
   "cell_type": "code",
   "execution_count": 8,
   "metadata": {},
   "outputs": [],
   "source": [
    "# Selecting the final features\n",
    "df_final = df_listings[['latitude','longitude','room_type','accommodates','bathrooms','bedrooms','beds','price','security_deposit','cleaning_fee','guests_included','cancellation_policy']]"
   ]
  },
  {
   "cell_type": "code",
   "execution_count": 9,
   "metadata": {},
   "outputs": [],
   "source": [
    "# Eleminating Special characters\n",
    "df_final['price']= df_final['price'].str.replace('$','')\n",
    "df_final['security_deposit']= df_final['security_deposit'].str.replace('$','')\n",
    "df_final['cleaning_fee']= df_final['cleaning_fee'].str.replace('$','')\n",
    "df_final['price']= df_final['price'].str.replace(',','')\n",
    "df_final['security_deposit']= df_final['security_deposit'].str.replace(',','')\n",
    "df_final['cleaning_fee']= df_final['cleaning_fee'].str.replace(',','')"
   ]
  },
  {
   "cell_type": "code",
   "execution_count": 10,
   "metadata": {},
   "outputs": [],
   "source": [
    "# Eliminating nulls with 0\n",
    "df_final['security_deposit'] = df_final['security_deposit'].fillna('0')\n",
    "df_final['cleaning_fee'] = df_final['cleaning_fee'].fillna('0')"
   ]
  },
  {
   "cell_type": "code",
   "execution_count": 11,
   "metadata": {},
   "outputs": [],
   "source": [
    "df_final['security_deposit'] = pd.to_numeric(df_final['security_deposit'])\n",
    "df_final['cleaning_fee'] = pd.to_numeric(df_final['cleaning_fee'])\n",
    "df_final['price'] = pd.to_numeric(df_final['price'])"
   ]
  },
  {
   "cell_type": "code",
   "execution_count": 12,
   "metadata": {},
   "outputs": [
    {
     "data": {
      "text/plain": [
       "Apartment                 20225\n",
       "Condominium                 612\n",
       "Loft                        460\n",
       "House                       398\n",
       "Serviced apartment          175\n",
       "Hostel                      128\n",
       "Townhouse                    99\n",
       "Guest suite                  74\n",
       "Bed and breakfast            64\n",
       "Guesthouse                   57\n",
       "Hotel                        50\n",
       "Other                        47\n",
       "Boutique hotel               43\n",
       "Bungalow                     20\n",
       "Boat                         17\n",
       "Tiny house                   12\n",
       "Houseboat                    11\n",
       "Camper/RV                    11\n",
       "Villa                        10\n",
       "Pension (South Korea)         7\n",
       "Aparthotel                    7\n",
       "Cabin                         6\n",
       "Cottage                       4\n",
       "Resort                        3\n",
       "Casa particular (Cuba)        2\n",
       "Castle                        2\n",
       "Train                         2\n",
       "Tipi                          1\n",
       "Island                        1\n",
       "Cave                          1\n",
       "Chalet                        1\n",
       "Barn                          1\n",
       "In-law                        1\n",
       "Name: property_type, dtype: int64"
      ]
     },
     "execution_count": 12,
     "metadata": {},
     "output_type": "execute_result"
    }
   ],
   "source": [
    "#checking the counts of property type\n",
    "df_listings.property_type.value_counts()"
   ]
  },
  {
   "cell_type": "code",
   "execution_count": 13,
   "metadata": {},
   "outputs": [
    {
     "data": {
      "text/html": [
       "<div>\n",
       "<style scoped>\n",
       "    .dataframe tbody tr th:only-of-type {\n",
       "        vertical-align: middle;\n",
       "    }\n",
       "\n",
       "    .dataframe tbody tr th {\n",
       "        vertical-align: top;\n",
       "    }\n",
       "\n",
       "    .dataframe thead th {\n",
       "        text-align: right;\n",
       "    }\n",
       "</style>\n",
       "<table border=\"1\" class=\"dataframe\">\n",
       "  <thead>\n",
       "    <tr style=\"text-align: right;\">\n",
       "      <th></th>\n",
       "      <th>property_type</th>\n",
       "    </tr>\n",
       "  </thead>\n",
       "  <tbody>\n",
       "    <tr>\n",
       "      <th>Apartment</th>\n",
       "      <td>20225</td>\n",
       "    </tr>\n",
       "    <tr>\n",
       "      <th>Condominium</th>\n",
       "      <td>612</td>\n",
       "    </tr>\n",
       "    <tr>\n",
       "      <th>Loft</th>\n",
       "      <td>460</td>\n",
       "    </tr>\n",
       "    <tr>\n",
       "      <th>House</th>\n",
       "      <td>398</td>\n",
       "    </tr>\n",
       "    <tr>\n",
       "      <th>Serviced apartment</th>\n",
       "      <td>175</td>\n",
       "    </tr>\n",
       "  </tbody>\n",
       "</table>\n",
       "</div>"
      ],
      "text/plain": [
       "                    property_type\n",
       "Apartment                   20225\n",
       "Condominium                   612\n",
       "Loft                          460\n",
       "House                         398\n",
       "Serviced apartment            175"
      ]
     },
     "execution_count": 13,
     "metadata": {},
     "output_type": "execute_result"
    }
   ],
   "source": [
    "#only taking in account of the top 5 property counts, and eliminating the rest\n",
    "property1 =pd.DataFrame(df_listings.property_type.value_counts())\n",
    "property1.head()"
   ]
  },
  {
   "cell_type": "code",
   "execution_count": 14,
   "metadata": {},
   "outputs": [
    {
     "name": "stdout",
     "output_type": "stream",
     "text": [
      "Townhouse\n",
      "Guest suite\n",
      "Bed and breakfast\n",
      "Guesthouse\n",
      "Hotel\n",
      "Other\n",
      "Boutique hotel\n",
      "Bungalow\n",
      "Boat\n",
      "Tiny house\n",
      "Houseboat\n",
      "Camper/RV\n",
      "Villa\n",
      "Pension (South Korea)\n",
      "Aparthotel\n",
      "Cabin\n",
      "Cottage\n",
      "Resort\n",
      "Casa particular (Cuba)\n",
      "Castle\n",
      "Train\n",
      "Tipi\n",
      "Island\n",
      "Cave\n",
      "Chalet\n",
      "Barn\n",
      "In-law\n",
      "\n",
      "Unique Property Types\n",
      "\n",
      "['others' 'Apartment' 'Condominium' 'Loft' 'House' 'Serviced apartment'\n",
      " 'Hostel']\n"
     ]
    }
   ],
   "source": [
    "prop = np.array(property1.index)\n",
    "#replacing all the other property type outside top 5 with 'others' category\n",
    "for i in range(6,(prop.shape[0])):\n",
    "    prop_string = prop[i]\n",
    "    print(prop_string)\n",
    "    df_listings.property_type = df_listings.property_type.str.replace(prop_string, 'others')\n",
    "df_listings = df_listings[df_listings.property_type != \"Pension (South Korea)\"]\n",
    "df_listings = df_listings[df_listings.property_type != \"Casa particular (Cuba)\"]\n",
    "\n",
    "print(\"\\nUnique Property Types\\n\")\n",
    "print(df_listings.property_type.unique())"
   ]
  },
  {
   "cell_type": "code",
   "execution_count": 15,
   "metadata": {},
   "outputs": [
    {
     "data": {
      "image/png": "[encoded data removed]",
      "text/plain": [
       "<Figure size 720x720 with 1 Axes>"
      ]
     },
     "metadata": {
      "needs_background": "light"
     },
     "output_type": "display_data"
    }
   ],
   "source": [
    "plt.figure(figsize=(10,10))\n",
    "ax = sns.countplot(x=df_listings.property_type)\n",
    "plt.show()"
   ]
  },
  {
   "cell_type": "code",
   "execution_count": 16,
   "metadata": {},
   "outputs": [],
   "source": [
    "# performing one hot encodig for room_type\n",
    "df_final['room_type'] = pd.Categorical(df_final['room_type'])\n",
    "df2 = pd.get_dummies(df_final['room_type'], prefix = 'room_type')\n",
    "df_final = pd.concat([df_final, df2], axis=1)"
   ]
  },
  {
   "cell_type": "code",
   "execution_count": 17,
   "metadata": {},
   "outputs": [],
   "source": [
    "# performing one hot encoding for cancelation_policy\n",
    "df_final['cancellation_policy'] = pd.Categorical(df_final['cancellation_policy'])\n",
    "df2 = pd.get_dummies(df_final['cancellation_policy'], prefix = 'cancellation_policy')\n",
    "df_final = pd.concat([df_final, df2], axis=1)"
   ]
  },
  {
   "cell_type": "code",
   "execution_count": 18,
   "metadata": {},
   "outputs": [
    {
     "data": {
      "text/plain": [
       "Index(['latitude', 'longitude', 'accommodates', 'bathrooms', 'bedrooms',\n",
       "       'beds', 'price', 'security_deposit', 'cleaning_fee', 'guests_included',\n",
       "       'room_type_Entire home/apt', 'room_type_Private room',\n",
       "       'room_type_Shared room', 'cancellation_policy_flexible',\n",
       "       'cancellation_policy_moderate',\n",
       "       'cancellation_policy_strict_14_with_grace_period',\n",
       "       'cancellation_policy_super_strict_30',\n",
       "       'cancellation_policy_super_strict_60'],\n",
       "      dtype='object')"
      ]
     },
     "execution_count": 18,
     "metadata": {},
     "output_type": "execute_result"
    }
   ],
   "source": [
    "df_final = df_final.drop(['room_type','cancellation_policy'],axis=1)\n",
    "df_final.columns"
   ]
  },
  {
   "cell_type": "code",
   "execution_count": 19,
   "metadata": {},
   "outputs": [],
   "source": [
    "# replacing missing values with mean\n",
    "mean_bathrooms = df_final['bathrooms'].mean()\n",
    "df_final['bathrooms'] = df_final['bathrooms'].fillna(mean_bathrooms)\n",
    "mean_bedrooms = df_final['bedrooms'].mean()\n",
    "df_final['bedrooms'] = df_final['bedrooms'].fillna(mean_bedrooms)\n",
    "mean_beds = df_final['beds'].mean()\n",
    "df_final['beds'] = df_final['beds'].fillna(mean_beds)"
   ]
  },
  {
   "cell_type": "code",
   "execution_count": 20,
   "metadata": {},
   "outputs": [
    {
     "data": {
      "image/png": "[encoded data removed]",
      "text/plain": [
       "<Figure size 1080x360 with 1 Axes>"
      ]
     },
     "metadata": {
      "needs_background": "light"
     },
     "output_type": "display_data"
    }
   ],
   "source": [
    "red_square = dict(markerfacecolor='r', markeredgecolor='r', marker='.')\n",
    "df_final['price'].plot(kind='box', xlim=(0, 1000), vert=False, flierprops=red_square, figsize=(15,5));"
   ]
  },
  {
   "cell_type": "code",
   "execution_count": 21,
   "metadata": {},
   "outputs": [],
   "source": [
    "#dropping the price which are above $400, and less than $0. Outliers\n",
    "df_final.drop(df_final[ (df_final.price > 400) | (df_final.price == 0) ].index, axis=0, inplace=True)"
   ]
  },
  {
   "cell_type": "code",
   "execution_count": 22,
   "metadata": {},
   "outputs": [],
   "source": [
    "#converting the latitude and longitude to distance in miles, relative to the center of berlin\n",
    "df_final= df_final.assign(distance=df_final.apply(lambda x: distance_to_mid(x.latitude, x.longitude), axis=1))\n",
    "df_final = df_final.drop([\"latitude\",\"longitude\"],axis=1)"
   ]
  },
  {
   "cell_type": "code",
   "execution_count": 23,
   "metadata": {},
   "outputs": [
    {
     "data": {
      "image/png": "[encoded data removed]",
      "text/plain": [
       "<Figure size 720x720 with 1 Axes>"
      ]
     },
     "metadata": {
      "needs_background": "light"
     },
     "output_type": "display_data"
    }
   ],
   "source": [
    "plt.figure(figsize=(10,10))\n",
    "ax = sns.distplot(df_final[\"distance\"], bins=10, kde=False)\n",
    "plt.show()"
   ]
  },
  {
   "cell_type": "code",
   "execution_count": 24,
   "metadata": {},
   "outputs": [
    {
     "data": {
      "image/png": "[encoded data removed]",
      "text/plain": [
       "<Figure size 648x432 with 1 Axes>"
      ]
     },
     "metadata": {
      "needs_background": "light"
     },
     "output_type": "display_data"
    }
   ],
   "source": [
    "df_final.plot.scatter(x=\"distance\", y=\"price\", figsize=(9,6), c='dimgrey')\n",
    "plt.title('\\nRelation between Distance & Median Price\\n', fontsize=14, fontweight='bold');\n",
    "plt.show()"
   ]
  },
  {
   "cell_type": "code",
   "execution_count": 25,
   "metadata": {},
   "outputs": [
    {
     "data": {
      "image/png": "[encoded data removed]",
      "text/plain": [
       "<Figure size 432x432 with 3 Axes>"
      ]
     },
     "metadata": {
      "needs_background": "light"
     },
     "output_type": "display_data"
    }
   ],
   "source": [
    "sns.jointplot(x=df_final[\"distance\"], y=df_final[\"price\"], kind='hex')\n",
    "plt.title('\\nRelation between Distance & Median Price\\n', fontsize=14, fontweight='bold');\n",
    "plt.show()"
   ]
  },
  {
   "cell_type": "code",
   "execution_count": 26,
   "metadata": {},
   "outputs": [
    {
     "data": {
      "text/plain": [
       "accommodates                                       0\n",
       "bathrooms                                          0\n",
       "bedrooms                                           0\n",
       "beds                                               0\n",
       "price                                              0\n",
       "security_deposit                                   0\n",
       "cleaning_fee                                       0\n",
       "guests_included                                    0\n",
       "room_type_Entire home/apt                          0\n",
       "room_type_Private room                             0\n",
       "room_type_Shared room                              0\n",
       "cancellation_policy_flexible                       0\n",
       "cancellation_policy_moderate                       0\n",
       "cancellation_policy_strict_14_with_grace_period    0\n",
       "cancellation_policy_super_strict_30                0\n",
       "cancellation_policy_super_strict_60                0\n",
       "distance                                           0\n",
       "dtype: int64"
      ]
     },
     "execution_count": 26,
     "metadata": {},
     "output_type": "execute_result"
    }
   ],
   "source": [
    "df_final.isnull().sum()"
   ]
  },
  {
   "cell_type": "code",
   "execution_count": 27,
   "metadata": {},
   "outputs": [
    {
     "data": {
      "text/plain": [
       "count    22441.000000\n",
       "mean        57.584377\n",
       "std         42.162006\n",
       "min          1.000000\n",
       "25%         30.000000\n",
       "50%         45.000000\n",
       "75%         70.000000\n",
       "max        400.000000\n",
       "Name: price, dtype: float64"
      ]
     },
     "execution_count": 27,
     "metadata": {},
     "output_type": "execute_result"
    }
   ],
   "source": [
    "df_final['price'].describe()"
   ]
  },
  {
   "cell_type": "code",
   "execution_count": 28,
   "metadata": {},
   "outputs": [],
   "source": [
    "# defining the features\n",
    "X = df_final.drop(['price'],axis=1)\n",
    "X = minmaxscaling(X)"
   ]
  },
  {
   "cell_type": "code",
   "execution_count": 29,
   "metadata": {},
   "outputs": [],
   "source": [
    "# defining the target\n",
    "y = df_final['price']"
   ]
  },
  {
   "cell_type": "code",
   "execution_count": 30,
   "metadata": {},
   "outputs": [],
   "source": [
    "# Spliting data into train test\n",
    "X_train, X_test, y_train, y_test = train_test_split(X,y,test_size = 0.25,random_state = 42)"
   ]
  },
  {
   "cell_type": "code",
   "execution_count": 31,
   "metadata": {},
   "outputs": [
    {
     "data": {
      "text/plain": [
       "<Figure size 432x288 with 0 Axes>"
      ]
     },
     "metadata": {},
     "output_type": "display_data"
    },
    {
     "data": {
      "image/png": "[encoded data removed]",
      "text/plain": [
       "<Figure size 1440x1440 with 2 Axes>"
      ]
     },
     "metadata": {
      "needs_background": "light"
     },
     "output_type": "display_data"
    }
   ],
   "source": [
    "# correlation matrix\n",
    "corre = X.corr()\n",
    "mask = np.zeros_like(corre)\n",
    "mask[np.triu_indices_from(mask)] = True\n",
    "cmap = plt.cm.get_cmap('jet',30)\n",
    "fig = plt.figure()\n",
    "f,ax = plt.subplots(figsize=(20,20))\n",
    "fig.suptitle('HeaMap')\n",
    "with sns.axes_style(\"white\"):\n",
    "  ax = sns.heatmap(corre, mask=mask, cmap=cmap, annot=True, vmax=1.0, vmin=-1.0, square=True, linewidths=.5, cbar_kws={\"shrink\": .5})\n",
    "  plt.xlabel(\"X axis\")\n",
    "  plt.ylabel(\"Y axis\")\n",
    "  \n",
    "plt.savefig(\"HeatMap.png\")\n",
    "plt.show()"
   ]
  },
  {
   "cell_type": "markdown",
   "metadata": {},
   "source": [
    "# Linear Regression"
   ]
  },
  {
   "cell_type": "code",
   "execution_count": 32,
   "metadata": {},
   "outputs": [
    {
     "name": "stdout",
     "output_type": "stream",
     "text": [
      "Regression\n",
      "r2 = 0.48265244705024746\n",
      "RMSE 30.858726\n"
     ]
    },
    {
     "data": {
      "text/plain": [
       "'\\npkl_linear = \"LinearRegression.pkl\"\\nwith open(pkl_linear, \\'wb\\') as file:  \\n    pickle.dump(gs_lr, file)\\n'"
      ]
     },
     "execution_count": 32,
     "metadata": {},
     "output_type": "execute_result"
    }
   ],
   "source": [
    "pipe_lr = Pipeline([('clf', LinearRegression(normalize=True))])\n",
    "grid_params_lr =[{}]\n",
    "gs_lr = GridSearchCV(estimator=pipe_lr, param_grid=grid_params_lr, cv=10) \n",
    "gs_lr.fit(X_train, y_train)\n",
    "calc_error_metric('Regression', gs_lr, X_train, y_train, X_test, y_test)\n",
    "\n",
    "'''\n",
    "pkl_linear = \"LinearRegression.pkl\"\n",
    "with open(pkl_linear, 'wb') as file:  \n",
    "    pickle.dump(gs_lr, file)\n",
    "'''"
   ]
  },
  {
   "cell_type": "markdown",
   "metadata": {},
   "source": [
    "# Random Forest"
   ]
  },
  {
   "cell_type": "code",
   "execution_count": 33,
   "metadata": {},
   "outputs": [
    {
     "name": "stdout",
     "output_type": "stream",
     "text": [
      "RandomForest\n",
      "r2 = 0.5183051776780849\n",
      "RMSE 29.776441\n"
     ]
    },
    {
     "data": {
      "text/plain": [
       "'\\npkl_random = \"RandomForest.pkl\"\\nwith open(pkl_random, \\'wb\\') as file:  \\n    pickle.dump(gs_rf, file)\\n'"
      ]
     },
     "execution_count": 33,
     "metadata": {},
     "output_type": "execute_result"
    }
   ],
   "source": [
    "pipe_rf = Pipeline([('rf', RandomForestRegressor(n_estimators=115,max_features=6,random_state=42))])\n",
    "grid_params_rf = [{}]\n",
    "gs_rf = GridSearchCV(estimator=pipe_rf, param_grid=grid_params_rf, cv=10)\n",
    "gs_rf.fit(X_train, y_train)\n",
    "calc_error_metric('RandomForest', gs_rf, X_train, y_train, X_test, y_test)\n",
    "\n",
    "'''\n",
    "pkl_random = \"RandomForest.pkl\"\n",
    "with open(pkl_random, 'wb') as file:  \n",
    "    pickle.dump(gs_rf, file)\n",
    "'''"
   ]
  },
  {
   "cell_type": "markdown",
   "metadata": {},
   "source": [
    "# Gradient Booster"
   ]
  },
  {
   "cell_type": "code",
   "execution_count": 34,
   "metadata": {},
   "outputs": [
    {
     "name": "stdout",
     "output_type": "stream",
     "text": [
      "GradientBoostingRegressor\n",
      "r2 = 0.5465365822286876\n",
      "RMSE 28.890691\n"
     ]
    },
    {
     "data": {
      "text/plain": [
       "'\\npkl_gradient = \"GradientBoosting.pkl\"\\nwith open(pkl_gradient, \\'wb\\') as file:  \\n    pickle.dump(gs_gbm, file)\\n'"
      ]
     },
     "execution_count": 34,
     "metadata": {},
     "output_type": "execute_result"
    }
   ],
   "source": [
    "pipe_gbm = Pipeline([('gbm', GradientBoostingRegressor(n_estimators=300,learning_rate= 0.1,max_features=1.0,random_state=42))])\n",
    "grid_params_gbm =[{}]\n",
    "gs_gbm = GridSearchCV(estimator=pipe_gbm, param_grid=grid_params_gbm, cv=10)\n",
    "gs_gbm.fit(X_train, y_train)\n",
    "calc_error_metric('GradientBoostingRegressor', gs_gbm, X_train, y_train, X_test, y_test)\n",
    "\n",
    "'''\n",
    "pkl_gradient = \"GradientBoosting.pkl\"\n",
    "with open(pkl_gradient, 'wb') as file:  \n",
    "    pickle.dump(gs_gbm, file)\n",
    "'''"
   ]
  },
  {
   "cell_type": "markdown",
   "metadata": {},
   "source": [
    "# XGBoost"
   ]
  },
  {
   "cell_type": "code",
   "execution_count": 35,
   "metadata": {},
   "outputs": [
    {
     "name": "stdout",
     "output_type": "stream",
     "text": [
      "XGBoost\n",
      "r2 = 0.5391497261463819\n",
      "RMSE 29.125053\n"
     ]
    },
    {
     "data": {
      "text/html": [
       "<div>\n",
       "<style scoped>\n",
       "    .dataframe tbody tr th:only-of-type {\n",
       "        vertical-align: middle;\n",
       "    }\n",
       "\n",
       "    .dataframe tbody tr th {\n",
       "        vertical-align: top;\n",
       "    }\n",
       "\n",
       "    .dataframe thead th {\n",
       "        text-align: right;\n",
       "    }\n",
       "</style>\n",
       "<table border=\"1\" class=\"dataframe\">\n",
       "  <thead>\n",
       "    <tr style=\"text-align: right;\">\n",
       "      <th></th>\n",
       "      <th>Model</th>\n",
       "      <th>mae_test</th>\n",
       "      <th>mae_train</th>\n",
       "      <th>mape_test</th>\n",
       "      <th>mape_train</th>\n",
       "      <th>r2_test</th>\n",
       "      <th>r2_train</th>\n",
       "      <th>rms_test</th>\n",
       "      <th>rms_train</th>\n",
       "    </tr>\n",
       "  </thead>\n",
       "  <tbody>\n",
       "    <tr>\n",
       "      <th>0</th>\n",
       "      <td>Regression</td>\n",
       "      <td>19.330860</td>\n",
       "      <td>19.262170</td>\n",
       "      <td>39.087746</td>\n",
       "      <td>38.344646</td>\n",
       "      <td>0.482652</td>\n",
       "      <td>0.454490</td>\n",
       "      <td>30.858726</td>\n",
       "      <td>30.954697</td>\n",
       "    </tr>\n",
       "    <tr>\n",
       "      <th>0</th>\n",
       "      <td>RandomForest</td>\n",
       "      <td>18.844510</td>\n",
       "      <td>7.035132</td>\n",
       "      <td>38.587230</td>\n",
       "      <td>14.023040</td>\n",
       "      <td>0.518305</td>\n",
       "      <td>0.927963</td>\n",
       "      <td>29.776441</td>\n",
       "      <td>11.248704</td>\n",
       "    </tr>\n",
       "    <tr>\n",
       "      <th>0</th>\n",
       "      <td>GradientBoostingRegressor</td>\n",
       "      <td>18.160019</td>\n",
       "      <td>17.187743</td>\n",
       "      <td>36.762806</td>\n",
       "      <td>34.865982</td>\n",
       "      <td>0.546537</td>\n",
       "      <td>0.591744</td>\n",
       "      <td>28.890691</td>\n",
       "      <td>26.778809</td>\n",
       "    </tr>\n",
       "    <tr>\n",
       "      <th>0</th>\n",
       "      <td>XGBoost</td>\n",
       "      <td>18.299371</td>\n",
       "      <td>17.951326</td>\n",
       "      <td>37.158057</td>\n",
       "      <td>36.072180</td>\n",
       "      <td>0.539150</td>\n",
       "      <td>0.536971</td>\n",
       "      <td>29.125053</td>\n",
       "      <td>28.518662</td>\n",
       "    </tr>\n",
       "  </tbody>\n",
       "</table>\n",
       "</div>"
      ],
      "text/plain": [
       "                       Model   mae_test  mae_train  mape_test  mape_train  \\\n",
       "0                 Regression  19.330860  19.262170  39.087746   38.344646   \n",
       "0               RandomForest  18.844510   7.035132  38.587230   14.023040   \n",
       "0  GradientBoostingRegressor  18.160019  17.187743  36.762806   34.865982   \n",
       "0                    XGBoost  18.299371  17.951326  37.158057   36.072180   \n",
       "\n",
       "    r2_test  r2_train   rms_test  rms_train  \n",
       "0  0.482652  0.454490  30.858726  30.954697  \n",
       "0  0.518305  0.927963  29.776441  11.248704  \n",
       "0  0.546537  0.591744  28.890691  26.778809  \n",
       "0  0.539150  0.536971  29.125053  28.518662  "
      ]
     },
     "execution_count": 35,
     "metadata": {},
     "output_type": "execute_result"
    }
   ],
   "source": [
    "import re\n",
    "import xgboost as xgb\n",
    "from sklearn.preprocessing import StandardScaler\n",
    "sc = StandardScaler()\n",
    "X_train = sc.fit_transform(X_train)\n",
    "X_test  = sc.transform(X_test)\n",
    "xg_reg = xgb.XGBRegressor(objective ='reg:squarederror')\n",
    "xg_reg.fit(X_train,y_train)\n",
    "calc_error_metric('XGBoost', xg_reg, X_train, y_train, X_test, y_test)"
   ]
  },
  {
   "cell_type": "markdown",
   "metadata": {},
   "source": [
    "# Light Gradient Boosting"
   ]
  },
  {
   "cell_type": "code",
   "execution_count": 37,
   "metadata": {},
   "outputs": [
    {
     "name": "stdout",
     "output_type": "stream",
     "text": [
      "LightGradientBoosting\n",
      "r2 = 0.43525114318407443\n",
      "RMSE 32.241444\n"
     ]
    },
    {
     "data": {
      "text/html": [
       "<div>\n",
       "<style scoped>\n",
       "    .dataframe tbody tr th:only-of-type {\n",
       "        vertical-align: middle;\n",
       "    }\n",
       "\n",
       "    .dataframe tbody tr th {\n",
       "        vertical-align: top;\n",
       "    }\n",
       "\n",
       "    .dataframe thead th {\n",
       "        text-align: right;\n",
       "    }\n",
       "</style>\n",
       "<table border=\"1\" class=\"dataframe\">\n",
       "  <thead>\n",
       "    <tr style=\"text-align: right;\">\n",
       "      <th></th>\n",
       "      <th>Model</th>\n",
       "      <th>mae_test</th>\n",
       "      <th>mae_train</th>\n",
       "      <th>mape_test</th>\n",
       "      <th>mape_train</th>\n",
       "      <th>r2_test</th>\n",
       "      <th>r2_train</th>\n",
       "      <th>rms_test</th>\n",
       "      <th>rms_train</th>\n",
       "    </tr>\n",
       "  </thead>\n",
       "  <tbody>\n",
       "    <tr>\n",
       "      <th>0</th>\n",
       "      <td>Regression</td>\n",
       "      <td>19.330860</td>\n",
       "      <td>19.262170</td>\n",
       "      <td>39.087746</td>\n",
       "      <td>38.344646</td>\n",
       "      <td>0.482652</td>\n",
       "      <td>0.454490</td>\n",
       "      <td>30.858726</td>\n",
       "      <td>30.954697</td>\n",
       "    </tr>\n",
       "    <tr>\n",
       "      <th>0</th>\n",
       "      <td>RandomForest</td>\n",
       "      <td>18.844510</td>\n",
       "      <td>7.035132</td>\n",
       "      <td>38.587230</td>\n",
       "      <td>14.023040</td>\n",
       "      <td>0.518305</td>\n",
       "      <td>0.927963</td>\n",
       "      <td>29.776441</td>\n",
       "      <td>11.248704</td>\n",
       "    </tr>\n",
       "    <tr>\n",
       "      <th>0</th>\n",
       "      <td>GradientBoostingRegressor</td>\n",
       "      <td>18.160019</td>\n",
       "      <td>17.187743</td>\n",
       "      <td>36.762806</td>\n",
       "      <td>34.865982</td>\n",
       "      <td>0.546537</td>\n",
       "      <td>0.591744</td>\n",
       "      <td>28.890691</td>\n",
       "      <td>26.778809</td>\n",
       "    </tr>\n",
       "    <tr>\n",
       "      <th>0</th>\n",
       "      <td>XGBoost</td>\n",
       "      <td>18.299371</td>\n",
       "      <td>17.951326</td>\n",
       "      <td>37.158057</td>\n",
       "      <td>36.072180</td>\n",
       "      <td>0.539150</td>\n",
       "      <td>0.536971</td>\n",
       "      <td>29.125053</td>\n",
       "      <td>28.518662</td>\n",
       "    </tr>\n",
       "    <tr>\n",
       "      <th>0</th>\n",
       "      <td>LightGradientBoosting</td>\n",
       "      <td>20.484171</td>\n",
       "      <td>20.183204</td>\n",
       "      <td>44.737018</td>\n",
       "      <td>44.037210</td>\n",
       "      <td>0.435251</td>\n",
       "      <td>0.435377</td>\n",
       "      <td>32.241444</td>\n",
       "      <td>31.492296</td>\n",
       "    </tr>\n",
       "  </tbody>\n",
       "</table>\n",
       "</div>"
      ],
      "text/plain": [
       "                       Model   mae_test  mae_train  mape_test  mape_train  \\\n",
       "0                 Regression  19.330860  19.262170  39.087746   38.344646   \n",
       "0               RandomForest  18.844510   7.035132  38.587230   14.023040   \n",
       "0  GradientBoostingRegressor  18.160019  17.187743  36.762806   34.865982   \n",
       "0                    XGBoost  18.299371  17.951326  37.158057   36.072180   \n",
       "0      LightGradientBoosting  20.484171  20.183204  44.737018   44.037210   \n",
       "\n",
       "    r2_test  r2_train   rms_test  rms_train  \n",
       "0  0.482652  0.454490  30.858726  30.954697  \n",
       "0  0.518305  0.927963  29.776441  11.248704  \n",
       "0  0.546537  0.591744  28.890691  26.778809  \n",
       "0  0.539150  0.536971  29.125053  28.518662  \n",
       "0  0.435251  0.435377  32.241444  31.492296  "
      ]
     },
     "execution_count": 37,
     "metadata": {},
     "output_type": "execute_result"
    }
   ],
   "source": [
    "import re\n",
    "import lightgbm as lgb\n",
    "from sklearn.preprocessing import StandardScaler\n",
    "sc = StandardScaler()\n",
    "X_train = sc.fit_transform(X_train)\n",
    "X_test  = sc.transform(X_test)\n",
    "\n",
    "lgb_train = lgb.Dataset(X_train, y_train)\n",
    "lgb_eval = lgb.Dataset(X_test, y_test, reference=lgb_train)\n",
    "params = {\n",
    "    'boosting_type': 'gbdt',\n",
    "    'objective': 'regression',\n",
    "    'metric': {'l2', 'l1'},\n",
    "    'num_leaves': 31,\n",
    "    'learning_rate': 0.05,\n",
    "    'feature_fraction': 0.9,\n",
    "    'bagging_fraction': 0.8,\n",
    "    'bagging_freq': 5,\n",
    "    'verbose': 0\n",
    "}\n",
    "   \n",
    "gbm = lgb.train(params,\n",
    "                lgb_train,\n",
    "                num_boost_round=20)\n",
    "\n",
    "calc_error_metric('LightGradientBoosting', gbm, X_train, y_train, X_test, y_test)"
   ]
  },
  {
   "cell_type": "markdown",
   "metadata": {},
   "source": [
    "### Understanding XGBoost is best algorithm, we apply Hyper-parameter tuning"
   ]
  },
  {
   "cell_type": "markdown",
   "metadata": {},
   "source": [
    "# Grid Search"
   ]
  },
  {
   "cell_type": "code",
   "execution_count": 38,
   "metadata": {},
   "outputs": [
    {
     "name": "stdout",
     "output_type": "stream",
     "text": [
      "{'colsample_bytree': 0.7, 'gamma': 0.0, 'learning_rate': 0.1, 'max_depth': 6, 'n_estimators': 20}\n",
      "XGBoostGridSearch\n",
      "r2 = 0.48767169968547397\n",
      "RMSE 30.708668\n"
     ]
    },
    {
     "data": {
      "text/html": [
       "<div>\n",
       "<style scoped>\n",
       "    .dataframe tbody tr th:only-of-type {\n",
       "        vertical-align: middle;\n",
       "    }\n",
       "\n",
       "    .dataframe tbody tr th {\n",
       "        vertical-align: top;\n",
       "    }\n",
       "\n",
       "    .dataframe thead th {\n",
       "        text-align: right;\n",
       "    }\n",
       "</style>\n",
       "<table border=\"1\" class=\"dataframe\">\n",
       "  <thead>\n",
       "    <tr style=\"text-align: right;\">\n",
       "      <th></th>\n",
       "      <th>Model</th>\n",
       "      <th>mae_test</th>\n",
       "      <th>mae_train</th>\n",
       "      <th>mape_test</th>\n",
       "      <th>mape_train</th>\n",
       "      <th>r2_test</th>\n",
       "      <th>r2_train</th>\n",
       "      <th>rms_test</th>\n",
       "      <th>rms_train</th>\n",
       "    </tr>\n",
       "  </thead>\n",
       "  <tbody>\n",
       "    <tr>\n",
       "      <th>0</th>\n",
       "      <td>Regression</td>\n",
       "      <td>19.330860</td>\n",
       "      <td>19.262170</td>\n",
       "      <td>39.087746</td>\n",
       "      <td>38.344646</td>\n",
       "      <td>0.482652</td>\n",
       "      <td>0.454490</td>\n",
       "      <td>30.858726</td>\n",
       "      <td>30.954697</td>\n",
       "    </tr>\n",
       "    <tr>\n",
       "      <th>0</th>\n",
       "      <td>RandomForest</td>\n",
       "      <td>18.844510</td>\n",
       "      <td>7.035132</td>\n",
       "      <td>38.587230</td>\n",
       "      <td>14.023040</td>\n",
       "      <td>0.518305</td>\n",
       "      <td>0.927963</td>\n",
       "      <td>29.776441</td>\n",
       "      <td>11.248704</td>\n",
       "    </tr>\n",
       "    <tr>\n",
       "      <th>0</th>\n",
       "      <td>GradientBoostingRegressor</td>\n",
       "      <td>18.160019</td>\n",
       "      <td>17.187743</td>\n",
       "      <td>36.762806</td>\n",
       "      <td>34.865982</td>\n",
       "      <td>0.546537</td>\n",
       "      <td>0.591744</td>\n",
       "      <td>28.890691</td>\n",
       "      <td>26.778809</td>\n",
       "    </tr>\n",
       "    <tr>\n",
       "      <th>0</th>\n",
       "      <td>XGBoost</td>\n",
       "      <td>18.299371</td>\n",
       "      <td>17.951326</td>\n",
       "      <td>37.158057</td>\n",
       "      <td>36.072180</td>\n",
       "      <td>0.539150</td>\n",
       "      <td>0.536971</td>\n",
       "      <td>29.125053</td>\n",
       "      <td>28.518662</td>\n",
       "    </tr>\n",
       "    <tr>\n",
       "      <th>0</th>\n",
       "      <td>LightGradientBoosting</td>\n",
       "      <td>20.484171</td>\n",
       "      <td>20.183204</td>\n",
       "      <td>44.737018</td>\n",
       "      <td>44.037210</td>\n",
       "      <td>0.435251</td>\n",
       "      <td>0.435377</td>\n",
       "      <td>32.241444</td>\n",
       "      <td>31.492296</td>\n",
       "    </tr>\n",
       "    <tr>\n",
       "      <th>0</th>\n",
       "      <td>XGBoostGridSearch</td>\n",
       "      <td>18.051879</td>\n",
       "      <td>17.258589</td>\n",
       "      <td>31.920594</td>\n",
       "      <td>30.424092</td>\n",
       "      <td>0.487672</td>\n",
       "      <td>0.519431</td>\n",
       "      <td>30.708668</td>\n",
       "      <td>29.053807</td>\n",
       "    </tr>\n",
       "  </tbody>\n",
       "</table>\n",
       "</div>"
      ],
      "text/plain": [
       "                       Model   mae_test  mae_train  mape_test  mape_train  \\\n",
       "0                 Regression  19.330860  19.262170  39.087746   38.344646   \n",
       "0               RandomForest  18.844510   7.035132  38.587230   14.023040   \n",
       "0  GradientBoostingRegressor  18.160019  17.187743  36.762806   34.865982   \n",
       "0                    XGBoost  18.299371  17.951326  37.158057   36.072180   \n",
       "0      LightGradientBoosting  20.484171  20.183204  44.737018   44.037210   \n",
       "0          XGBoostGridSearch  18.051879  17.258589  31.920594   30.424092   \n",
       "\n",
       "    r2_test  r2_train   rms_test  rms_train  \n",
       "0  0.482652  0.454490  30.858726  30.954697  \n",
       "0  0.518305  0.927963  29.776441  11.248704  \n",
       "0  0.546537  0.591744  28.890691  26.778809  \n",
       "0  0.539150  0.536971  29.125053  28.518662  \n",
       "0  0.435251  0.435377  32.241444  31.492296  \n",
       "0  0.487672  0.519431  30.708668  29.053807  "
      ]
     },
     "execution_count": 38,
     "metadata": {},
     "output_type": "execute_result"
    }
   ],
   "source": [
    "from sklearn.model_selection import GridSearchCV\n",
    "param_grid = {'n_estimators': [10, 15, 20],\n",
    "              'learning_rate': [0.01, 0.05, 0.1], \n",
    "              'max_depth': [3, 4, 5, 6, 7],\n",
    "              'colsample_bytree': [0.6, 0.7, 1],\n",
    "              'gamma': [0.0, 0.1, 0.2]}\n",
    "\n",
    "booster_grid_search = GridSearchCV(xg_reg, param_grid, cv=3, n_jobs=-1)\n",
    "booster_grid_search.fit(X_train, y_train)\n",
    "print(booster_grid_search.best_params_)\n",
    "calc_error_metric('XGBoostGridSearch', booster_grid_search, X_train, y_train, X_test, y_test)"
   ]
  },
  {
   "cell_type": "code",
   "execution_count": 39,
   "metadata": {},
   "outputs": [
    {
     "name": "stdout",
     "output_type": "stream",
     "text": [
      "XGBoostRegressor\n",
      "r2 = 0.5530941300285899\n",
      "RMSE 28.681036\n"
     ]
    },
    {
     "data": {
      "text/html": [
       "<div>\n",
       "<style scoped>\n",
       "    .dataframe tbody tr th:only-of-type {\n",
       "        vertical-align: middle;\n",
       "    }\n",
       "\n",
       "    .dataframe tbody tr th {\n",
       "        vertical-align: top;\n",
       "    }\n",
       "\n",
       "    .dataframe thead th {\n",
       "        text-align: right;\n",
       "    }\n",
       "</style>\n",
       "<table border=\"1\" class=\"dataframe\">\n",
       "  <thead>\n",
       "    <tr style=\"text-align: right;\">\n",
       "      <th></th>\n",
       "      <th>Model</th>\n",
       "      <th>mae_test</th>\n",
       "      <th>mae_train</th>\n",
       "      <th>mape_test</th>\n",
       "      <th>mape_train</th>\n",
       "      <th>r2_test</th>\n",
       "      <th>r2_train</th>\n",
       "      <th>rms_test</th>\n",
       "      <th>rms_train</th>\n",
       "    </tr>\n",
       "  </thead>\n",
       "  <tbody>\n",
       "    <tr>\n",
       "      <th>0</th>\n",
       "      <td>Regression</td>\n",
       "      <td>19.330860</td>\n",
       "      <td>19.262170</td>\n",
       "      <td>39.087746</td>\n",
       "      <td>38.344646</td>\n",
       "      <td>0.482652</td>\n",
       "      <td>0.454490</td>\n",
       "      <td>30.858726</td>\n",
       "      <td>30.954697</td>\n",
       "    </tr>\n",
       "    <tr>\n",
       "      <th>0</th>\n",
       "      <td>RandomForest</td>\n",
       "      <td>18.844510</td>\n",
       "      <td>7.035132</td>\n",
       "      <td>38.587230</td>\n",
       "      <td>14.023040</td>\n",
       "      <td>0.518305</td>\n",
       "      <td>0.927963</td>\n",
       "      <td>29.776441</td>\n",
       "      <td>11.248704</td>\n",
       "    </tr>\n",
       "    <tr>\n",
       "      <th>0</th>\n",
       "      <td>GradientBoostingRegressor</td>\n",
       "      <td>18.160019</td>\n",
       "      <td>17.187743</td>\n",
       "      <td>36.762806</td>\n",
       "      <td>34.865982</td>\n",
       "      <td>0.546537</td>\n",
       "      <td>0.591744</td>\n",
       "      <td>28.890691</td>\n",
       "      <td>26.778809</td>\n",
       "    </tr>\n",
       "    <tr>\n",
       "      <th>0</th>\n",
       "      <td>XGBoost</td>\n",
       "      <td>18.299371</td>\n",
       "      <td>17.951326</td>\n",
       "      <td>37.158057</td>\n",
       "      <td>36.072180</td>\n",
       "      <td>0.539150</td>\n",
       "      <td>0.536971</td>\n",
       "      <td>29.125053</td>\n",
       "      <td>28.518662</td>\n",
       "    </tr>\n",
       "    <tr>\n",
       "      <th>0</th>\n",
       "      <td>LightGradientBoosting</td>\n",
       "      <td>20.484171</td>\n",
       "      <td>20.183204</td>\n",
       "      <td>44.737018</td>\n",
       "      <td>44.037210</td>\n",
       "      <td>0.435251</td>\n",
       "      <td>0.435377</td>\n",
       "      <td>32.241444</td>\n",
       "      <td>31.492296</td>\n",
       "    </tr>\n",
       "    <tr>\n",
       "      <th>0</th>\n",
       "      <td>XGBoostGridSearch</td>\n",
       "      <td>18.051879</td>\n",
       "      <td>17.258589</td>\n",
       "      <td>31.920594</td>\n",
       "      <td>30.424092</td>\n",
       "      <td>0.487672</td>\n",
       "      <td>0.519431</td>\n",
       "      <td>30.708668</td>\n",
       "      <td>29.053807</td>\n",
       "    </tr>\n",
       "    <tr>\n",
       "      <th>0</th>\n",
       "      <td>XGBoostRegressor</td>\n",
       "      <td>17.954106</td>\n",
       "      <td>16.460591</td>\n",
       "      <td>36.422296</td>\n",
       "      <td>33.835486</td>\n",
       "      <td>0.553094</td>\n",
       "      <td>0.632313</td>\n",
       "      <td>28.681036</td>\n",
       "      <td>25.413504</td>\n",
       "    </tr>\n",
       "  </tbody>\n",
       "</table>\n",
       "</div>"
      ],
      "text/plain": [
       "                       Model   mae_test  mae_train  mape_test  mape_train  \\\n",
       "0                 Regression  19.330860  19.262170  39.087746   38.344646   \n",
       "0               RandomForest  18.844510   7.035132  38.587230   14.023040   \n",
       "0  GradientBoostingRegressor  18.160019  17.187743  36.762806   34.865982   \n",
       "0                    XGBoost  18.299371  17.951326  37.158057   36.072180   \n",
       "0      LightGradientBoosting  20.484171  20.183204  44.737018   44.037210   \n",
       "0          XGBoostGridSearch  18.051879  17.258589  31.920594   30.424092   \n",
       "0           XGBoostRegressor  17.954106  16.460591  36.422296   33.835486   \n",
       "\n",
       "    r2_test  r2_train   rms_test  rms_train  \n",
       "0  0.482652  0.454490  30.858726  30.954697  \n",
       "0  0.518305  0.927963  29.776441  11.248704  \n",
       "0  0.546537  0.591744  28.890691  26.778809  \n",
       "0  0.539150  0.536971  29.125053  28.518662  \n",
       "0  0.435251  0.435377  32.241444  31.492296  \n",
       "0  0.487672  0.519431  30.708668  29.053807  \n",
       "0  0.553094  0.632313  28.681036  25.413504  "
      ]
     },
     "execution_count": 39,
     "metadata": {},
     "output_type": "execute_result"
    }
   ],
   "source": [
    "import re\n",
    "import xgboost as xgb\n",
    "from sklearn.preprocessing import StandardScaler\n",
    "sc = StandardScaler()\n",
    "X_train = sc.fit_transform(X_train)\n",
    "X_test  = sc.transform(X_test)\n",
    "booster = xgb.XGBRegressor(objective ='reg:squarederror', colsample_bytree=0.7, gamma=0.1, learning_rate=0.05, \n",
    "                           max_depth=6, n_estimators=150)\n",
    "booster.fit(X_train, y_train)\n",
    "y_pred_train = booster.predict(X_train)\n",
    "y_pred_test = booster.predict(X_test)\n",
    "\n",
    "calc_error_metric('XGBoostRegressor', booster, X_train, y_train, X_test, y_test)"
   ]
  },
  {
   "cell_type": "markdown",
   "metadata": {},
   "source": [
    "# Cross validation"
   ]
  },
  {
   "cell_type": "code",
   "execution_count": 49,
   "metadata": {},
   "outputs": [
    {
     "data": {
      "text/html": [
       "<div>\n",
       "<style scoped>\n",
       "    .dataframe tbody tr th:only-of-type {\n",
       "        vertical-align: middle;\n",
       "    }\n",
       "\n",
       "    .dataframe tbody tr th {\n",
       "        vertical-align: top;\n",
       "    }\n",
       "\n",
       "    .dataframe thead th {\n",
       "        text-align: right;\n",
       "    }\n",
       "</style>\n",
       "<table border=\"1\" class=\"dataframe\">\n",
       "  <thead>\n",
       "    <tr style=\"text-align: right;\">\n",
       "      <th></th>\n",
       "      <th>train-rmse-mean</th>\n",
       "      <th>train-rmse-std</th>\n",
       "      <th>test-rmse-mean</th>\n",
       "      <th>test-rmse-std</th>\n",
       "    </tr>\n",
       "  </thead>\n",
       "  <tbody>\n",
       "    <tr>\n",
       "      <th>145</th>\n",
       "      <td>24.591215</td>\n",
       "      <td>0.493383</td>\n",
       "      <td>29.494862</td>\n",
       "      <td>0.997155</td>\n",
       "    </tr>\n",
       "    <tr>\n",
       "      <th>146</th>\n",
       "      <td>24.582574</td>\n",
       "      <td>0.496354</td>\n",
       "      <td>29.494918</td>\n",
       "      <td>0.997378</td>\n",
       "    </tr>\n",
       "    <tr>\n",
       "      <th>147</th>\n",
       "      <td>24.563884</td>\n",
       "      <td>0.488915</td>\n",
       "      <td>29.495542</td>\n",
       "      <td>1.000269</td>\n",
       "    </tr>\n",
       "    <tr>\n",
       "      <th>148</th>\n",
       "      <td>24.554230</td>\n",
       "      <td>0.486517</td>\n",
       "      <td>29.493453</td>\n",
       "      <td>1.001797</td>\n",
       "    </tr>\n",
       "    <tr>\n",
       "      <th>149</th>\n",
       "      <td>24.543312</td>\n",
       "      <td>0.488186</td>\n",
       "      <td>29.493047</td>\n",
       "      <td>1.001417</td>\n",
       "    </tr>\n",
       "  </tbody>\n",
       "</table>\n",
       "</div>"
      ],
      "text/plain": [
       "     train-rmse-mean  train-rmse-std  test-rmse-mean  test-rmse-std\n",
       "145        24.591215        0.493383       29.494862       0.997155\n",
       "146        24.582574        0.496354       29.494918       0.997378\n",
       "147        24.563884        0.488915       29.495542       1.000269\n",
       "148        24.554230        0.486517       29.493453       1.001797\n",
       "149        24.543312        0.488186       29.493047       1.001417"
      ]
     },
     "execution_count": 49,
     "metadata": {},
     "output_type": "execute_result"
    }
   ],
   "source": [
    "xg_train = xgb.DMatrix(data=X_train, label=y_train)\n",
    "params = {'colsample_bytree':0.7, 'gamma':0.1, 'learning_rate':0.05, 'max_depth':6, 'n_estimators':150}\n",
    "\n",
    "cv_results = xgb.cv(dtrain=xg_train, params=params, nfold=3,\n",
    "                    num_boost_round=200, early_stopping_rounds=10, \n",
    "                    metrics=\"rmse\", as_pandas=True)\n",
    "\n",
    "cv_results.head()\n",
    "cv_results.tail()"
   ]
  },
  {
   "cell_type": "code",
   "execution_count": 50,
   "metadata": {},
   "outputs": [
    {
     "name": "stdout",
     "output_type": "stream",
     "text": [
      "Best Model is  XGBoostRegressor\n"
     ]
    }
   ],
   "source": [
    "#### Calculate best model\n",
    "best_model =  min(rmse_dict.items(),key=operator.itemgetter(1))[0]\n",
    "print('Best Model is ', best_model)\n",
    "#### Write the error\n",
    "error_metric.to_csv('Error_metrics.csv')"
   ]
  }
 ],
 "metadata": {
  "kernelspec": {
   "display_name": "Python 3",
   "language": "python",
   "name": "python3"
  },
  "language_info": {
   "codemirror_mode": {
    "name": "ipython",
    "version": 3
   },
   "file_extension": ".py",
   "mimetype": "text/x-python",
   "name": "python",
   "nbconvert_exporter": "python",
   "pygments_lexer": "ipython3",
   "version": "3.7.3"
  }
 },
 "nbformat": 4,
 "nbformat_minor": 2
}
