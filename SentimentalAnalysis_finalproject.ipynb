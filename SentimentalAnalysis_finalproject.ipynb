{
 "cells": [
  {
   "cell_type": "code",
   "execution_count": 1,
   "metadata": {},
   "outputs": [],
   "source": [
    "import pandas as pd\n",
    "import numpy as np\n",
    "\n",
    "import matplotlib.pyplot as plt\n",
    "plt.style.use('seaborn')\n",
    "import seaborn as sns\n",
    "\n",
    "import warnings\n",
    "warnings.filterwarnings(\"ignore\")\n",
    "\n",
    "import time\n",
    "import datetime"
   ]
  },
  {
   "cell_type": "code",
   "execution_count": 3,
   "metadata": {},
   "outputs": [],
   "source": [
    "df=pd.read_csv('reviews_summary.csv')"
   ]
  },
  {
   "cell_type": "code",
   "execution_count": 4,
   "metadata": {},
   "outputs": [
    {
     "data": {
      "text/html": [
       "<div>\n",
       "<style scoped>\n",
       "    .dataframe tbody tr th:only-of-type {\n",
       "        vertical-align: middle;\n",
       "    }\n",
       "\n",
       "    .dataframe tbody tr th {\n",
       "        vertical-align: top;\n",
       "    }\n",
       "\n",
       "    .dataframe thead th {\n",
       "        text-align: right;\n",
       "    }\n",
       "</style>\n",
       "<table border=\"1\" class=\"dataframe\">\n",
       "  <thead>\n",
       "    <tr style=\"text-align: right;\">\n",
       "      <th></th>\n",
       "      <th>listing_id</th>\n",
       "      <th>id</th>\n",
       "      <th>date</th>\n",
       "      <th>reviewer_id</th>\n",
       "      <th>reviewer_name</th>\n",
       "      <th>comments</th>\n",
       "    </tr>\n",
       "  </thead>\n",
       "  <tbody>\n",
       "    <tr>\n",
       "      <th>0</th>\n",
       "      <td>2015</td>\n",
       "      <td>69544350</td>\n",
       "      <td>2016-04-11</td>\n",
       "      <td>7178145</td>\n",
       "      <td>Rahel</td>\n",
       "      <td>Mein Freund und ich hatten gute gemütliche vie...</td>\n",
       "    </tr>\n",
       "    <tr>\n",
       "      <th>1</th>\n",
       "      <td>2015</td>\n",
       "      <td>69990732</td>\n",
       "      <td>2016-04-15</td>\n",
       "      <td>41944715</td>\n",
       "      <td>Hannah</td>\n",
       "      <td>Jan was very friendly and welcoming host! The ...</td>\n",
       "    </tr>\n",
       "    <tr>\n",
       "      <th>2</th>\n",
       "      <td>2015</td>\n",
       "      <td>71605267</td>\n",
       "      <td>2016-04-26</td>\n",
       "      <td>30048708</td>\n",
       "      <td>Victor</td>\n",
       "      <td>Un appartement tres bien situé dans un quartie...</td>\n",
       "    </tr>\n",
       "    <tr>\n",
       "      <th>3</th>\n",
       "      <td>2015</td>\n",
       "      <td>73819566</td>\n",
       "      <td>2016-05-10</td>\n",
       "      <td>63697857</td>\n",
       "      <td>Judy</td>\n",
       "      <td>It is really nice area, food, park, transport ...</td>\n",
       "    </tr>\n",
       "    <tr>\n",
       "      <th>4</th>\n",
       "      <td>2015</td>\n",
       "      <td>74293504</td>\n",
       "      <td>2016-05-14</td>\n",
       "      <td>10414887</td>\n",
       "      <td>Romina</td>\n",
       "      <td>Buena ubicación, el departamento no está orden...</td>\n",
       "    </tr>\n",
       "  </tbody>\n",
       "</table>\n",
       "</div>"
      ],
      "text/plain": [
       "   listing_id        id        date  reviewer_id reviewer_name  \\\n",
       "0        2015  69544350  2016-04-11      7178145         Rahel   \n",
       "1        2015  69990732  2016-04-15     41944715        Hannah   \n",
       "2        2015  71605267  2016-04-26     30048708        Victor   \n",
       "3        2015  73819566  2016-05-10     63697857          Judy   \n",
       "4        2015  74293504  2016-05-14     10414887        Romina   \n",
       "\n",
       "                                            comments  \n",
       "0  Mein Freund und ich hatten gute gemütliche vie...  \n",
       "1  Jan was very friendly and welcoming host! The ...  \n",
       "2  Un appartement tres bien situé dans un quartie...  \n",
       "3  It is really nice area, food, park, transport ...  \n",
       "4  Buena ubicación, el departamento no está orden...  "
      ]
     },
     "execution_count": 4,
     "metadata": {},
     "output_type": "execute_result"
    }
   ],
   "source": [
    "df.head()"
   ]
  },
  {
   "cell_type": "code",
   "execution_count": 5,
   "metadata": {},
   "outputs": [],
   "source": [
    "from langdetect import detect"
   ]
  },
  {
   "cell_type": "code",
   "execution_count": 6,
   "metadata": {},
   "outputs": [],
   "source": [
    "# write the function that detects the language\n",
    "def language_detection(text):\n",
    "    try:\n",
    "        return detect(text)\n",
    "    except:\n",
    "        return None"
   ]
  },
  {
   "cell_type": "code",
   "execution_count": 7,
   "metadata": {},
   "outputs": [
    {
     "name": "stdout",
     "output_type": "stream",
     "text": [
      "Wall time: 35min 36s\n"
     ]
    }
   ],
   "source": [
    "%%time\n",
    "df['language'] = df['comments'].apply(language_detection)"
   ]
  },
  {
   "cell_type": "code",
   "execution_count": 8,
   "metadata": {},
   "outputs": [
    {
     "data": {
      "text/plain": [
       "en    271847\n",
       "de     77174\n",
       "fr     16887\n",
       "es     12164\n",
       "it      4864\n",
       "nl      3881\n",
       "ru      2306\n",
       "ko      1633\n",
       "pt      1396\n",
       "da      1361\n",
       "Name: language, dtype: int64"
      ]
     },
     "execution_count": 8,
     "metadata": {},
     "output_type": "execute_result"
    }
   ],
   "source": [
    "df.language.value_counts().head(10)"
   ]
  },
  {
   "cell_type": "code",
   "execution_count": 9,
   "metadata": {},
   "outputs": [],
   "source": [
    "df_eng = df[(df['language']=='en')]"
   ]
  },
  {
   "cell_type": "code",
   "execution_count": 13,
   "metadata": {},
   "outputs": [
    {
     "name": "stderr",
     "output_type": "stream",
     "text": [
      "[nltk_data] Downloading package stopwords to\n",
      "[nltk_data]     C:\\Users\\vedan\\AppData\\Roaming\\nltk_data...\n",
      "[nltk_data]   Unzipping corpora\\stopwords.zip.\n"
     ]
    }
   ],
   "source": [
    "# import necessary libraries\n",
    "from nltk.corpus import stopwords\n",
    "from wordcloud import WordCloud\n",
    "from collections import Counter\n",
    "from PIL import Image\n",
    "import nltk\n",
    "nltk.download('stopwords')\n",
    "\n",
    "import re\n",
    "import string"
   ]
  },
  {
   "cell_type": "code",
   "execution_count": 14,
   "metadata": {},
   "outputs": [
    {
     "data": {
      "image/png": "[encoded data removed]",
      "text/plain": [
       "<Figure size 864x720 with 1 Axes>"
      ]
     },
     "metadata": {
      "needs_background": "light"
     },
     "output_type": "display_data"
    }
   ],
   "source": [
    "# wrap the plotting in a function for easier access\n",
    "def plot_wordcloud(wordcloud, language):\n",
    "    plt.figure(figsize=(12, 10))\n",
    "    plt.imshow(wordcloud, interpolation = 'bilinear')\n",
    "    plt.axis(\"off\")\n",
    "    plt.title(language + ' Comments\\n', fontsize=18, fontweight='bold')\n",
    "    plt.show()\n",
    "    \n",
    "wordcloud = WordCloud(max_font_size=None, max_words=200, background_color=\"lightgrey\", \n",
    "                      width=3000, height=2000,\n",
    "                      stopwords=stopwords.words('english')).generate(str(df_eng.comments.values))\n",
    "\n",
    "plot_wordcloud(wordcloud, 'English')"
   ]
  },
  {
   "cell_type": "code",
   "execution_count": 36,
   "metadata": {},
   "outputs": [
    {
     "data": {
      "text/html": [
       "<div>\n",
       "<style scoped>\n",
       "    .dataframe tbody tr th:only-of-type {\n",
       "        vertical-align: middle;\n",
       "    }\n",
       "\n",
       "    .dataframe tbody tr th {\n",
       "        vertical-align: top;\n",
       "    }\n",
       "\n",
       "    .dataframe thead th {\n",
       "        text-align: right;\n",
       "    }\n",
       "</style>\n",
       "<table border=\"1\" class=\"dataframe\">\n",
       "  <thead>\n",
       "    <tr style=\"text-align: right;\">\n",
       "      <th></th>\n",
       "      <th>listing_id</th>\n",
       "      <th>id</th>\n",
       "      <th>date</th>\n",
       "      <th>reviewer_id</th>\n",
       "      <th>reviewer_name</th>\n",
       "      <th>comments</th>\n",
       "      <th>language</th>\n",
       "    </tr>\n",
       "  </thead>\n",
       "  <tbody>\n",
       "    <tr>\n",
       "      <th>1</th>\n",
       "      <td>2015</td>\n",
       "      <td>69990732</td>\n",
       "      <td>2016-04-15</td>\n",
       "      <td>41944715</td>\n",
       "      <td>Hannah</td>\n",
       "      <td>Jan was very friendly and welcoming host! The ...</td>\n",
       "      <td>en</td>\n",
       "    </tr>\n",
       "    <tr>\n",
       "      <th>3</th>\n",
       "      <td>2015</td>\n",
       "      <td>73819566</td>\n",
       "      <td>2016-05-10</td>\n",
       "      <td>63697857</td>\n",
       "      <td>Judy</td>\n",
       "      <td>It is really nice area, food, park, transport ...</td>\n",
       "      <td>en</td>\n",
       "    </tr>\n",
       "    <tr>\n",
       "      <th>6</th>\n",
       "      <td>2015</td>\n",
       "      <td>76603178</td>\n",
       "      <td>2016-05-28</td>\n",
       "      <td>29323516</td>\n",
       "      <td>Laurent</td>\n",
       "      <td>We had a very nice stay in Berlin, thanks to J...</td>\n",
       "      <td>en</td>\n",
       "    </tr>\n",
       "    <tr>\n",
       "      <th>7</th>\n",
       "      <td>2015</td>\n",
       "      <td>77296201</td>\n",
       "      <td>2016-05-31</td>\n",
       "      <td>9025122</td>\n",
       "      <td>Rasmus</td>\n",
       "      <td>Great location close to Mauerpark, Kastanienal...</td>\n",
       "      <td>en</td>\n",
       "    </tr>\n",
       "    <tr>\n",
       "      <th>9</th>\n",
       "      <td>2015</td>\n",
       "      <td>82322683</td>\n",
       "      <td>2016-06-27</td>\n",
       "      <td>73902920</td>\n",
       "      <td>Mag</td>\n",
       "      <td>Apartment very well located, close to everythi...</td>\n",
       "      <td>en</td>\n",
       "    </tr>\n",
       "  </tbody>\n",
       "</table>\n",
       "</div>"
      ],
      "text/plain": [
       "   listing_id        id        date  reviewer_id reviewer_name  \\\n",
       "1        2015  69990732  2016-04-15     41944715        Hannah   \n",
       "3        2015  73819566  2016-05-10     63697857          Judy   \n",
       "6        2015  76603178  2016-05-28     29323516       Laurent   \n",
       "7        2015  77296201  2016-05-31      9025122        Rasmus   \n",
       "9        2015  82322683  2016-06-27     73902920           Mag   \n",
       "\n",
       "                                            comments language  \n",
       "1  Jan was very friendly and welcoming host! The ...       en  \n",
       "3  It is really nice area, food, park, transport ...       en  \n",
       "6  We had a very nice stay in Berlin, thanks to J...       en  \n",
       "7  Great location close to Mauerpark, Kastanienal...       en  \n",
       "9  Apartment very well located, close to everythi...       en  "
      ]
     },
     "execution_count": 36,
     "metadata": {},
     "output_type": "execute_result"
    }
   ],
   "source": [
    "df_eng.head()"
   ]
  },
  {
   "cell_type": "code",
   "execution_count": 37,
   "metadata": {},
   "outputs": [],
   "source": [
    "df_eng=df_eng[['comments']]"
   ]
  },
  {
   "cell_type": "code",
   "execution_count": 49,
   "metadata": {},
   "outputs": [],
   "source": [
    "df_eng.index = range(len(df_eng))"
   ]
  },
  {
   "cell_type": "code",
   "execution_count": 50,
   "metadata": {
    "scrolled": true
   },
   "outputs": [
    {
     "name": "stdout",
     "output_type": "stream",
     "text": [
      "                                                 comments\n",
      "0       Jan was very friendly and welcoming host! The ...\n",
      "1       It is really nice area, food, park, transport ...\n",
      "2       We had a very nice stay in Berlin, thanks to J...\n",
      "3       Great location close to Mauerpark, Kastanienal...\n",
      "4       Apartment very well located, close to everythi...\n",
      "5        My staying at Jan's was perfect: the apartmen...\n",
      "6       Apartment is walking distance to all the cafe'...\n",
      "7       Charming and quiet apartment. Excellent area, ...\n",
      "8       Jan made us feel welcome in the apartment and ...\n",
      "9       The location is perfect, the apartment is very...\n",
      "10      The flat is very nice and well equipped, in a ...\n",
      "11      A fantastic quiet location & a lovely apartmen...\n",
      "12      Jan's apartment was perfect for our four night...\n",
      "13      Jan is great! Super welcoming and available fo...\n",
      "14      Great location for exploring Berlin. Jan made ...\n",
      "15      Perfect 3 night stay at Jan! We had no issues ...\n",
      "16      very nice apartment, welcoming host, great pla...\n",
      "17      Enjoyed our stay, Jan was nice and friendly up...\n",
      "18      Great location in Mitte.  Jan's directions wer...\n",
      "19      the place is good, but we waited two hours the...\n",
      "20      Jan was friendly and let us drop our bags off ...\n",
      "21      We booked a room for 3 guests on December the ...\n",
      "22      I really enjoyed it, great location to the met...\n",
      "23      Great place to stay . Well furnished and all a...\n",
      "24                                       Great apartment!\n",
      "25      Jan's place was very cosy, space efficient and...\n",
      "26      Jan's house was spacious for one/two travelers...\n",
      "27      Good location,close to center and station.Nice...\n",
      "28      Great host, flexible check in/ out. Really cen...\n",
      "29      Great place to stay at in Berlin. Will definit...\n",
      "...                                                   ...\n",
      "271817  Sharon's apartment is stylish and well furnish...\n",
      "271818  We stayed in the apartment for 3 nights, end o...\n",
      "271819  The host canceled this reservation 50 days bef...\n",
      "271820  Stephanie and her mother were really great. Th...\n",
      "271821  The host canceled this reservation 3 days befo...\n",
      "271822  The place was minimalist and clean. Unfortunat...\n",
      "271823  Everything nice and clean. Very friendly and e...\n",
      "271824  very clean and a good value for two Nicola is ...\n",
      "271825  The host is friendly. The place was bigger and...\n",
      "271826  The host canceled this reservation 55 days bef...\n",
      "271827  Great place to stay and a bit far though. Valu...\n",
      "271828  The place is great. Very spacey and clean, wit...\n",
      "271829  The host canceled this reservation 69 days bef...\n",
      "271830  This Appartment is super comfortable and Claud...\n",
      "271831  The host canceled this reservation 4 days befo...\n",
      "271832  The host canceled this reservation 28 days bef...\n",
      "271833  The host canceled this reservation 24 days bef...\n",
      "271834         Nice, quite close to the center - 15m walk\n",
      "271835  The host canceled this reservation 54 days bef...\n",
      "271836  The host canceled this reservation 55 days bef...\n",
      "271837  The host canceled this reservation 13 days bef...\n",
      "271838  The host canceled this reservation 52 days bef...\n",
      "271839  The host canceled this reservation 7 days befo...\n",
      "271840  The host canceled this reservation 11 days bef...\n",
      "271841  The host canceled this reservation 32 days bef...\n",
      "271842  The host canceled this reservation 269 days be...\n",
      "271843  The host canceled this reservation 5 days befo...\n",
      "271844  The host canceled this reservation 50 days bef...\n",
      "271845  The host canceled this reservation 23 days bef...\n",
      "271846  The host canceled this reservation 51 days bef...\n",
      "\n",
      "[271847 rows x 1 columns]\n"
     ]
    }
   ],
   "source": [
    "print(df_eng)"
   ]
  },
  {
   "cell_type": "code",
   "execution_count": 51,
   "metadata": {},
   "outputs": [],
   "source": [
    "# load the SentimentIntensityAnalyser object in\n",
    "from nltk.sentiment.vader import SentimentIntensityAnalyzer\n",
    "\n",
    "\n",
    "# assign it to another name to make it easier to use\n",
    "analyzer = SentimentIntensityAnalyzer()\n",
    "\n"
   ]
  },
  {
   "cell_type": "code",
   "execution_count": 52,
   "metadata": {},
   "outputs": [],
   "source": [
    "def print_sentiment_scores(sentence):\n",
    "    snt = analyzer.polarity_scores(sentence)\n",
    "    print(\"{:-<40} {}\".format(sentence, str(snt)))"
   ]
  },
  {
   "cell_type": "code",
   "execution_count": 53,
   "metadata": {},
   "outputs": [],
   "source": [
    "# getting only the negative score\n",
    "def negative_score(text):\n",
    "    negative_value = analyzer.polarity_scores(text)['neg']\n",
    "    return negative_value\n",
    "\n",
    "# getting only the neutral score\n",
    "def neutral_score(text):\n",
    "    neutral_value = analyzer.polarity_scores(text)['neu']\n",
    "    return neutral_value\n",
    "\n",
    "# getting only the positive score\n",
    "def positive_score(text):\n",
    "    positive_value = analyzer.polarity_scores(text)['pos']\n",
    "    return positive_value\n",
    "\n",
    "# getting only the compound score\n",
    "def compound_score(text):\n",
    "    compound_value = analyzer.polarity_scores(text)['compound']\n",
    "    return compound_value"
   ]
  },
  {
   "cell_type": "code",
   "execution_count": 54,
   "metadata": {},
   "outputs": [],
   "source": [
    "df_eng['sentiment_neg'] = df_eng['comments'].apply(negative_score)\n",
    "df_eng['sentiment_neu'] = df_eng['comments'].apply(neutral_score)\n",
    "df_eng['sentiment_pos'] = df_eng['comments'].apply(positive_score)\n",
    "df_eng['sentiment_compound'] = df_eng['comments'].apply(compound_score)"
   ]
  },
  {
   "cell_type": "code",
   "execution_count": 55,
   "metadata": {},
   "outputs": [],
   "source": [
    "df = df_eng"
   ]
  },
  {
   "cell_type": "code",
   "execution_count": 56,
   "metadata": {},
   "outputs": [
    {
     "name": "stdout",
     "output_type": "stream",
     "text": [
      "                                                 comments  sentiment_neg  \\\n",
      "0       Jan was very friendly and welcoming host! The ...          0.000   \n",
      "1       It is really nice area, food, park, transport ...          0.000   \n",
      "2       We had a very nice stay in Berlin, thanks to J...          0.000   \n",
      "3       Great location close to Mauerpark, Kastanienal...          0.000   \n",
      "4       Apartment very well located, close to everythi...          0.000   \n",
      "5        My staying at Jan's was perfect: the apartmen...          0.000   \n",
      "6       Apartment is walking distance to all the cafe'...          0.000   \n",
      "7       Charming and quiet apartment. Excellent area, ...          0.000   \n",
      "8       Jan made us feel welcome in the apartment and ...          0.000   \n",
      "9       The location is perfect, the apartment is very...          0.000   \n",
      "10      The flat is very nice and well equipped, in a ...          0.000   \n",
      "11      A fantastic quiet location & a lovely apartmen...          0.000   \n",
      "12      Jan's apartment was perfect for our four night...          0.000   \n",
      "13      Jan is great! Super welcoming and available fo...          0.000   \n",
      "14      Great location for exploring Berlin. Jan made ...          0.000   \n",
      "15      Perfect 3 night stay at Jan! We had no issues ...          0.029   \n",
      "16      very nice apartment, welcoming host, great pla...          0.000   \n",
      "17      Enjoyed our stay, Jan was nice and friendly up...          0.000   \n",
      "18      Great location in Mitte.  Jan's directions wer...          0.021   \n",
      "19      the place is good, but we waited two hours the...          0.000   \n",
      "20      Jan was friendly and let us drop our bags off ...          0.054   \n",
      "21      We booked a room for 3 guests on December the ...          0.091   \n",
      "22      I really enjoyed it, great location to the met...          0.000   \n",
      "23      Great place to stay . Well furnished and all a...          0.000   \n",
      "24                                       Great apartment!          0.000   \n",
      "25      Jan's place was very cosy, space efficient and...          0.000   \n",
      "26      Jan's house was spacious for one/two travelers...          0.030   \n",
      "27      Good location,close to center and station.Nice...          0.000   \n",
      "28      Great host, flexible check in/ out. Really cen...          0.000   \n",
      "29      Great place to stay at in Berlin. Will definit...          0.000   \n",
      "...                                                   ...            ...   \n",
      "271817  Sharon's apartment is stylish and well furnish...          0.024   \n",
      "271818  We stayed in the apartment for 3 nights, end o...          0.170   \n",
      "271819  The host canceled this reservation 50 days bef...          0.000   \n",
      "271820  Stephanie and her mother were really great. Th...          0.000   \n",
      "271821  The host canceled this reservation 3 days befo...          0.000   \n",
      "271822  The place was minimalist and clean. Unfortunat...          0.072   \n",
      "271823  Everything nice and clean. Very friendly and e...          0.000   \n",
      "271824  very clean and a good value for two Nicola is ...          0.000   \n",
      "271825  The host is friendly. The place was bigger and...          0.000   \n",
      "271826  The host canceled this reservation 55 days bef...          0.000   \n",
      "271827  Great place to stay and a bit far though. Valu...          0.000   \n",
      "271828  The place is great. Very spacey and clean, wit...          0.000   \n",
      "271829  The host canceled this reservation 69 days bef...          0.000   \n",
      "271830  This Appartment is super comfortable and Claud...          0.000   \n",
      "271831  The host canceled this reservation 4 days befo...          0.000   \n",
      "271832  The host canceled this reservation 28 days bef...          0.000   \n",
      "271833  The host canceled this reservation 24 days bef...          0.000   \n",
      "271834         Nice, quite close to the center - 15m walk          0.000   \n",
      "271835  The host canceled this reservation 54 days bef...          0.000   \n",
      "271836  The host canceled this reservation 55 days bef...          0.000   \n",
      "271837  The host canceled this reservation 13 days bef...          0.000   \n",
      "271838  The host canceled this reservation 52 days bef...          0.000   \n",
      "271839  The host canceled this reservation 7 days befo...          0.000   \n",
      "271840  The host canceled this reservation 11 days bef...          0.000   \n",
      "271841  The host canceled this reservation 32 days bef...          0.000   \n",
      "271842  The host canceled this reservation 269 days be...          0.000   \n",
      "271843  The host canceled this reservation 5 days befo...          0.000   \n",
      "271844  The host canceled this reservation 50 days bef...          0.000   \n",
      "271845  The host canceled this reservation 23 days bef...          0.000   \n",
      "271846  The host canceled this reservation 51 days bef...          0.000   \n",
      "\n",
      "        sentiment_neu  sentiment_pos  sentiment_compound  \n",
      "0               0.505          0.495              0.9703  \n",
      "1               0.530          0.470              0.7955  \n",
      "2               0.657          0.343              0.9779  \n",
      "3               0.727          0.273              0.8353  \n",
      "4               0.811          0.189              0.8439  \n",
      "5               0.642          0.358              0.9787  \n",
      "6               0.680          0.320              0.8555  \n",
      "7               0.572          0.428              0.9259  \n",
      "8               0.789          0.211              0.8555  \n",
      "9               0.852          0.148              0.8271  \n",
      "10              0.624          0.376              0.9417  \n",
      "11              0.343          0.657              0.9100  \n",
      "12              0.759          0.241              0.9022  \n",
      "13              0.446          0.554              0.9041  \n",
      "14              0.549          0.451              0.8122  \n",
      "15              0.727          0.244              0.9457  \n",
      "16              0.263          0.737              0.9503  \n",
      "17              0.462          0.538              0.8519  \n",
      "18              0.824          0.155              0.9513  \n",
      "19              0.897          0.103              0.2382  \n",
      "20              0.541          0.405              0.9274  \n",
      "21              0.761          0.148              0.7845  \n",
      "22              0.596          0.404              0.9697  \n",
      "23              0.593          0.407              0.9193  \n",
      "24              0.185          0.815              0.6588  \n",
      "25              0.630          0.370              0.9671  \n",
      "26              0.868          0.102              0.9657  \n",
      "27              0.644          0.356              0.8910  \n",
      "28              0.417          0.583              0.9112  \n",
      "29              0.569          0.431              0.9735  \n",
      "...               ...            ...                 ...  \n",
      "271817          0.763          0.213              0.9421  \n",
      "271818          0.739          0.091             -0.9513  \n",
      "271819          1.000          0.000              0.0000  \n",
      "271820          0.621          0.379              0.9152  \n",
      "271821          1.000          0.000              0.0000  \n",
      "271822          0.777          0.150              0.9066  \n",
      "271823          0.424          0.576              0.9490  \n",
      "271824          0.563          0.437              0.9293  \n",
      "271825          0.758          0.242              0.6908  \n",
      "271826          1.000          0.000              0.0000  \n",
      "271827          0.551          0.449              0.8910  \n",
      "271828          0.660          0.340              0.9757  \n",
      "271829          1.000          0.000              0.0000  \n",
      "271830          0.782          0.218              0.8832  \n",
      "271831          1.000          0.000              0.0000  \n",
      "271832          1.000          0.000              0.0000  \n",
      "271833          1.000          0.000              0.0000  \n",
      "271834          0.714          0.286              0.4215  \n",
      "271835          1.000          0.000              0.0000  \n",
      "271836          1.000          0.000              0.0000  \n",
      "271837          1.000          0.000              0.0000  \n",
      "271838          1.000          0.000              0.0000  \n",
      "271839          1.000          0.000              0.0000  \n",
      "271840          1.000          0.000              0.0000  \n",
      "271841          1.000          0.000              0.0000  \n",
      "271842          1.000          0.000              0.0000  \n",
      "271843          1.000          0.000              0.0000  \n",
      "271844          1.000          0.000              0.0000  \n",
      "271845          1.000          0.000              0.0000  \n",
      "271846          1.000          0.000              0.0000  \n",
      "\n",
      "[271847 rows x 5 columns]\n"
     ]
    }
   ],
   "source": [
    "print(df)"
   ]
  },
  {
   "cell_type": "code",
   "execution_count": 57,
   "metadata": {},
   "outputs": [
    {
     "data": {
      "text/html": [
       "<div>\n",
       "<style scoped>\n",
       "    .dataframe tbody tr th:only-of-type {\n",
       "        vertical-align: middle;\n",
       "    }\n",
       "\n",
       "    .dataframe tbody tr th {\n",
       "        vertical-align: top;\n",
       "    }\n",
       "\n",
       "    .dataframe thead th {\n",
       "        text-align: right;\n",
       "    }\n",
       "</style>\n",
       "<table border=\"1\" class=\"dataframe\">\n",
       "  <thead>\n",
       "    <tr style=\"text-align: right;\">\n",
       "      <th></th>\n",
       "      <th>comments</th>\n",
       "      <th>sentiment_neg</th>\n",
       "      <th>sentiment_neu</th>\n",
       "      <th>sentiment_pos</th>\n",
       "      <th>sentiment_compound</th>\n",
       "    </tr>\n",
       "  </thead>\n",
       "  <tbody>\n",
       "    <tr>\n",
       "      <th>0</th>\n",
       "      <td>Jan was very friendly and welcoming host! The ...</td>\n",
       "      <td>0.0</td>\n",
       "      <td>0.505</td>\n",
       "      <td>0.495</td>\n",
       "      <td>0.9703</td>\n",
       "    </tr>\n",
       "    <tr>\n",
       "      <th>1</th>\n",
       "      <td>It is really nice area, food, park, transport ...</td>\n",
       "      <td>0.0</td>\n",
       "      <td>0.530</td>\n",
       "      <td>0.470</td>\n",
       "      <td>0.7955</td>\n",
       "    </tr>\n",
       "    <tr>\n",
       "      <th>2</th>\n",
       "      <td>We had a very nice stay in Berlin, thanks to J...</td>\n",
       "      <td>0.0</td>\n",
       "      <td>0.657</td>\n",
       "      <td>0.343</td>\n",
       "      <td>0.9779</td>\n",
       "    </tr>\n",
       "    <tr>\n",
       "      <th>3</th>\n",
       "      <td>Great location close to Mauerpark, Kastanienal...</td>\n",
       "      <td>0.0</td>\n",
       "      <td>0.727</td>\n",
       "      <td>0.273</td>\n",
       "      <td>0.8353</td>\n",
       "    </tr>\n",
       "    <tr>\n",
       "      <th>4</th>\n",
       "      <td>Apartment very well located, close to everythi...</td>\n",
       "      <td>0.0</td>\n",
       "      <td>0.811</td>\n",
       "      <td>0.189</td>\n",
       "      <td>0.8439</td>\n",
       "    </tr>\n",
       "  </tbody>\n",
       "</table>\n",
       "</div>"
      ],
      "text/plain": [
       "                                            comments  sentiment_neg  \\\n",
       "0  Jan was very friendly and welcoming host! The ...            0.0   \n",
       "1  It is really nice area, food, park, transport ...            0.0   \n",
       "2  We had a very nice stay in Berlin, thanks to J...            0.0   \n",
       "3  Great location close to Mauerpark, Kastanienal...            0.0   \n",
       "4  Apartment very well located, close to everythi...            0.0   \n",
       "\n",
       "   sentiment_neu  sentiment_pos  sentiment_compound  \n",
       "0          0.505          0.495              0.9703  \n",
       "1          0.530          0.470              0.7955  \n",
       "2          0.657          0.343              0.9779  \n",
       "3          0.727          0.273              0.8353  \n",
       "4          0.811          0.189              0.8439  "
      ]
     },
     "execution_count": 57,
     "metadata": {},
     "output_type": "execute_result"
    }
   ],
   "source": [
    "df.head()"
   ]
  },
  {
   "cell_type": "code",
   "execution_count": 58,
   "metadata": {},
   "outputs": [
    {
     "data": {
      "text/plain": [
       "count    271847.000000\n",
       "mean          0.831561\n",
       "std           0.262010\n",
       "min          -0.996800\n",
       "5%            0.051600\n",
       "10%           0.585900\n",
       "20%           0.784500\n",
       "30%           0.861900\n",
       "40%           0.903100\n",
       "50%           0.928700\n",
       "60%           0.946800\n",
       "70%           0.960800\n",
       "80%           0.972100\n",
       "90%           0.982500\n",
       "max           0.999500\n",
       "Name: sentiment_compound, dtype: float64"
      ]
     },
     "execution_count": 58,
     "metadata": {},
     "output_type": "execute_result"
    }
   ],
   "source": [
    "percentiles = df.sentiment_compound.describe(percentiles=[.05, .1, .2, .3, .4, .5, .6, .7, .8, .9])\n",
    "percentiles"
   ]
  },
  {
   "cell_type": "code",
   "execution_count": 60,
   "metadata": {},
   "outputs": [
    {
     "data": {
      "text/html": [
       "<div>\n",
       "<style scoped>\n",
       "    .dataframe tbody tr th:only-of-type {\n",
       "        vertical-align: middle;\n",
       "    }\n",
       "\n",
       "    .dataframe tbody tr th {\n",
       "        vertical-align: top;\n",
       "    }\n",
       "\n",
       "    .dataframe thead th {\n",
       "        text-align: right;\n",
       "    }\n",
       "</style>\n",
       "<table border=\"1\" class=\"dataframe\">\n",
       "  <thead>\n",
       "    <tr style=\"text-align: right;\">\n",
       "      <th></th>\n",
       "      <th>comments</th>\n",
       "      <th>sentiment_neg</th>\n",
       "      <th>sentiment_neu</th>\n",
       "      <th>sentiment_pos</th>\n",
       "      <th>sentiment_compound</th>\n",
       "      <th>sentiment</th>\n",
       "    </tr>\n",
       "  </thead>\n",
       "  <tbody>\n",
       "    <tr>\n",
       "      <th>0</th>\n",
       "      <td>Jan was very friendly and welcoming host! The ...</td>\n",
       "      <td>0.0</td>\n",
       "      <td>0.505</td>\n",
       "      <td>0.495</td>\n",
       "      <td>0.9703</td>\n",
       "      <td>1</td>\n",
       "    </tr>\n",
       "    <tr>\n",
       "      <th>1</th>\n",
       "      <td>It is really nice area, food, park, transport ...</td>\n",
       "      <td>0.0</td>\n",
       "      <td>0.530</td>\n",
       "      <td>0.470</td>\n",
       "      <td>0.7955</td>\n",
       "      <td>1</td>\n",
       "    </tr>\n",
       "    <tr>\n",
       "      <th>2</th>\n",
       "      <td>We had a very nice stay in Berlin, thanks to J...</td>\n",
       "      <td>0.0</td>\n",
       "      <td>0.657</td>\n",
       "      <td>0.343</td>\n",
       "      <td>0.9779</td>\n",
       "      <td>1</td>\n",
       "    </tr>\n",
       "    <tr>\n",
       "      <th>3</th>\n",
       "      <td>Great location close to Mauerpark, Kastanienal...</td>\n",
       "      <td>0.0</td>\n",
       "      <td>0.727</td>\n",
       "      <td>0.273</td>\n",
       "      <td>0.8353</td>\n",
       "      <td>1</td>\n",
       "    </tr>\n",
       "    <tr>\n",
       "      <th>4</th>\n",
       "      <td>Apartment very well located, close to everythi...</td>\n",
       "      <td>0.0</td>\n",
       "      <td>0.811</td>\n",
       "      <td>0.189</td>\n",
       "      <td>0.8439</td>\n",
       "      <td>1</td>\n",
       "    </tr>\n",
       "  </tbody>\n",
       "</table>\n",
       "</div>"
      ],
      "text/plain": [
       "                                            comments  sentiment_neg  \\\n",
       "0  Jan was very friendly and welcoming host! The ...            0.0   \n",
       "1  It is really nice area, food, park, transport ...            0.0   \n",
       "2  We had a very nice stay in Berlin, thanks to J...            0.0   \n",
       "3  Great location close to Mauerpark, Kastanienal...            0.0   \n",
       "4  Apartment very well located, close to everythi...            0.0   \n",
       "\n",
       "   sentiment_neu  sentiment_pos  sentiment_compound sentiment  \n",
       "0          0.505          0.495              0.9703         1  \n",
       "1          0.530          0.470              0.7955         1  \n",
       "2          0.657          0.343              0.9779         1  \n",
       "3          0.727          0.273              0.8353         1  \n",
       "4          0.811          0.189              0.8439         1  "
      ]
     },
     "execution_count": 60,
     "metadata": {},
     "output_type": "execute_result"
    }
   ],
   "source": [
    "def classifier(row):\n",
    "         if row[\"sentiment_compound\"] > 0:\n",
    "                return \"1\"\n",
    "         else:\n",
    "              return \"0\"\n",
    "  \n",
    "df[\"sentiment\"] = df.apply(classifier, axis=1)\n",
    "df.head()"
   ]
  },
  {
   "cell_type": "code",
   "execution_count": 62,
   "metadata": {},
   "outputs": [],
   "source": [
    "df_final=df.drop(['sentiment_neg', 'sentiment_neu', 'sentiment_pos', 'sentiment_compound'], axis=1)"
   ]
  },
  {
   "cell_type": "code",
   "execution_count": 64,
   "metadata": {},
   "outputs": [
    {
     "data": {
      "text/html": [
       "<div>\n",
       "<style scoped>\n",
       "    .dataframe tbody tr th:only-of-type {\n",
       "        vertical-align: middle;\n",
       "    }\n",
       "\n",
       "    .dataframe tbody tr th {\n",
       "        vertical-align: top;\n",
       "    }\n",
       "\n",
       "    .dataframe thead th {\n",
       "        text-align: right;\n",
       "    }\n",
       "</style>\n",
       "<table border=\"1\" class=\"dataframe\">\n",
       "  <thead>\n",
       "    <tr style=\"text-align: right;\">\n",
       "      <th></th>\n",
       "      <th>comments</th>\n",
       "      <th>sentiment</th>\n",
       "    </tr>\n",
       "  </thead>\n",
       "  <tbody>\n",
       "    <tr>\n",
       "      <th>0</th>\n",
       "      <td>Jan was very friendly and welcoming host! The ...</td>\n",
       "      <td>1</td>\n",
       "    </tr>\n",
       "    <tr>\n",
       "      <th>1</th>\n",
       "      <td>It is really nice area, food, park, transport ...</td>\n",
       "      <td>1</td>\n",
       "    </tr>\n",
       "    <tr>\n",
       "      <th>2</th>\n",
       "      <td>We had a very nice stay in Berlin, thanks to J...</td>\n",
       "      <td>1</td>\n",
       "    </tr>\n",
       "    <tr>\n",
       "      <th>3</th>\n",
       "      <td>Great location close to Mauerpark, Kastanienal...</td>\n",
       "      <td>1</td>\n",
       "    </tr>\n",
       "    <tr>\n",
       "      <th>4</th>\n",
       "      <td>Apartment very well located, close to everythi...</td>\n",
       "      <td>1</td>\n",
       "    </tr>\n",
       "  </tbody>\n",
       "</table>\n",
       "</div>"
      ],
      "text/plain": [
       "                                            comments sentiment\n",
       "0  Jan was very friendly and welcoming host! The ...         1\n",
       "1  It is really nice area, food, park, transport ...         1\n",
       "2  We had a very nice stay in Berlin, thanks to J...         1\n",
       "3  Great location close to Mauerpark, Kastanienal...         1\n",
       "4  Apartment very well located, close to everythi...         1"
      ]
     },
     "execution_count": 64,
     "metadata": {},
     "output_type": "execute_result"
    }
   ],
   "source": [
    "df_final.head()"
   ]
  },
  {
   "cell_type": "code",
   "execution_count": 65,
   "metadata": {},
   "outputs": [],
   "source": [
    "def remove_pattern(input_txt, pattern):\n",
    "    r = re.findall(pattern, input_txt)\n",
    "    for i in r:\n",
    "        input_txt = re.sub(i, '', input_txt)\n",
    "        \n",
    "    return input_txt    "
   ]
  },
  {
   "cell_type": "code",
   "execution_count": 67,
   "metadata": {},
   "outputs": [],
   "source": [
    "df_final['comments'] = np.vectorize(remove_pattern)(df_final['comments'], \"@[\\w]*\")"
   ]
  },
  {
   "cell_type": "code",
   "execution_count": 68,
   "metadata": {},
   "outputs": [],
   "source": [
    "df_final['comments'] = df_final['comments'].str.replace(\"[^a-zA-Z#]\", \" \")"
   ]
  },
  {
   "cell_type": "code",
   "execution_count": 69,
   "metadata": {},
   "outputs": [],
   "source": [
    "df_final['comments'] = df_final['comments'].apply(lambda x: ' '.join([w for w in x.split() if len(w)>3]))"
   ]
  },
  {
   "cell_type": "code",
   "execution_count": 70,
   "metadata": {},
   "outputs": [
    {
     "data": {
      "text/plain": [
       "0    [very, friendly, welcoming, host, apartment, g...\n",
       "1    [really, nice, area, food, park, transport, pe...\n",
       "2    [very, nice, stay, Berlin, thanks, premium, si...\n",
       "3    [Great, location, close, Mauerpark, Kastaniena...\n",
       "4    [Apartment, very, well, located, close, everyt...\n",
       "Name: comments, dtype: object"
      ]
     },
     "execution_count": 70,
     "metadata": {},
     "output_type": "execute_result"
    }
   ],
   "source": [
    "tokenized_comments = df_final['comments'].apply(lambda x: x.split())\n",
    "tokenized_comments.head()"
   ]
  },
  {
   "cell_type": "code",
   "execution_count": 71,
   "metadata": {},
   "outputs": [
    {
     "data": {
      "text/plain": [
       "0    [veri, friendli, welcom, host, apart, great, a...\n",
       "1    [realli, nice, area, food, park, transport, pe...\n",
       "2    [veri, nice, stay, berlin, thank, premium, sit...\n",
       "3    [great, locat, close, mauerpark, kastanienalle...\n",
       "4    [apart, veri, well, locat, close, everyth, sup...\n",
       "Name: comments, dtype: object"
      ]
     },
     "execution_count": 71,
     "metadata": {},
     "output_type": "execute_result"
    }
   ],
   "source": [
    "from nltk.stem.porter import *\n",
    "stemmer = PorterStemmer()\n",
    "\n",
    "tokenized_comments = tokenized_comments.apply(lambda x: [stemmer.stem(i) for i in x]) # stemming\n",
    "tokenized_comments.head()"
   ]
  },
  {
   "cell_type": "code",
   "execution_count": 72,
   "metadata": {},
   "outputs": [],
   "source": [
    "for i in range(len(tokenized_comments)):\n",
    "    tokenized_comments[i] = ' '.join(tokenized_comments[i])\n",
    "df_final['comments'] = tokenized_comments"
   ]
  },
  {
   "cell_type": "code",
   "execution_count": 73,
   "metadata": {},
   "outputs": [
    {
     "data": {
      "text/html": [
       "<div>\n",
       "<style scoped>\n",
       "    .dataframe tbody tr th:only-of-type {\n",
       "        vertical-align: middle;\n",
       "    }\n",
       "\n",
       "    .dataframe tbody tr th {\n",
       "        vertical-align: top;\n",
       "    }\n",
       "\n",
       "    .dataframe thead th {\n",
       "        text-align: right;\n",
       "    }\n",
       "</style>\n",
       "<table border=\"1\" class=\"dataframe\">\n",
       "  <thead>\n",
       "    <tr style=\"text-align: right;\">\n",
       "      <th></th>\n",
       "      <th>comments</th>\n",
       "      <th>sentiment</th>\n",
       "    </tr>\n",
       "  </thead>\n",
       "  <tbody>\n",
       "    <tr>\n",
       "      <th>0</th>\n",
       "      <td>veri friendli welcom host apart great area soo...</td>\n",
       "      <td>1</td>\n",
       "    </tr>\n",
       "    <tr>\n",
       "      <th>1</th>\n",
       "      <td>realli nice area food park transport perfect</td>\n",
       "      <td>1</td>\n",
       "    </tr>\n",
       "    <tr>\n",
       "      <th>2</th>\n",
       "      <td>veri nice stay berlin thank premium situat apa...</td>\n",
       "      <td>1</td>\n",
       "    </tr>\n",
       "    <tr>\n",
       "      <th>3</th>\n",
       "      <td>great locat close mauerpark kastanienalle rose...</td>\n",
       "      <td>1</td>\n",
       "    </tr>\n",
       "    <tr>\n",
       "      <th>4</th>\n",
       "      <td>apart veri well locat close everyth supermarke...</td>\n",
       "      <td>1</td>\n",
       "    </tr>\n",
       "  </tbody>\n",
       "</table>\n",
       "</div>"
      ],
      "text/plain": [
       "                                            comments sentiment\n",
       "0  veri friendli welcom host apart great area soo...         1\n",
       "1       realli nice area food park transport perfect         1\n",
       "2  veri nice stay berlin thank premium situat apa...         1\n",
       "3  great locat close mauerpark kastanienalle rose...         1\n",
       "4  apart veri well locat close everyth supermarke...         1"
      ]
     },
     "execution_count": 73,
     "metadata": {},
     "output_type": "execute_result"
    }
   ],
   "source": [
    "df_final.head()"
   ]
  },
  {
   "cell_type": "code",
   "execution_count": 86,
   "metadata": {},
   "outputs": [],
   "source": [
    "from sklearn.feature_extraction.text import CountVectorizer\n",
    "bow_vectorizer = CountVectorizer(max_df=0.90, min_df=2, max_features=1000, stop_words='english')\n",
    "# bag-of-words feature matrix\n",
    "bow = bow_vectorizer.fit_transform(df_final['comments'])"
   ]
  },
  {
   "cell_type": "code",
   "execution_count": 94,
   "metadata": {},
   "outputs": [
    {
     "name": "stdout",
     "output_type": "stream",
     "text": [
      "(217477, 1000) (217477,)\n",
      "(54370, 1000) (54370,)\n"
     ]
    },
    {
     "data": {
      "text/plain": [
       "LogisticRegression(C=1.0, class_weight=None, dual=False, fit_intercept=True,\n",
       "                   intercept_scaling=1, l1_ratio=None, max_iter=100,\n",
       "                   multi_class='warn', n_jobs=None, penalty='l2',\n",
       "                   random_state=None, solver='warn', tol=0.0001, verbose=0,\n",
       "                   warm_start=False)"
      ]
     },
     "execution_count": 94,
     "metadata": {},
     "output_type": "execute_result"
    }
   ],
   "source": [
    "from sklearn.model_selection import train_test_split\n",
    "y=df_final['sentiment']\n",
    "X_train, X_test, y_train, y_test = train_test_split(bow, y, test_size=0.2)\n",
    "print(X_train.shape, y_train.shape)\n",
    "print(X_test.shape, y_test.shape)\n",
    "\n",
    "lreg = LogisticRegression()\n",
    "lreg.fit(X_train, y_train) # training the model"
   ]
  },
  {
   "cell_type": "code",
   "execution_count": 95,
   "metadata": {},
   "outputs": [],
   "source": [
    "predictions = lreg.predict(X_test)"
   ]
  },
  {
   "cell_type": "code",
   "execution_count": 96,
   "metadata": {},
   "outputs": [
    {
     "name": "stdout",
     "output_type": "stream",
     "text": [
      "[[ 1966   743]\n",
      " [  134 51527]]\n",
      "              precision    recall  f1-score   support\n",
      "\n",
      "           0       0.94      0.73      0.82      2709\n",
      "           1       0.99      1.00      0.99     51661\n",
      "\n",
      "    accuracy                           0.98     54370\n",
      "   macro avg       0.96      0.86      0.90     54370\n",
      "weighted avg       0.98      0.98      0.98     54370\n",
      "\n",
      "0.9838697811292992\n"
     ]
    }
   ],
   "source": [
    "from sklearn.metrics import classification_report, confusion_matrix, accuracy_score\n",
    "\n",
    "print(confusion_matrix(y_test,predictions))\n",
    "print(classification_report(y_test,predictions))\n",
    "print(accuracy_score(y_test, predictions))"
   ]
  }
 ],
 "metadata": {
  "kernelspec": {
   "display_name": "Python 3",
   "language": "python",
   "name": "python3"
  },
  "language_info": {
   "codemirror_mode": {
    "name": "ipython",
    "version": 3
   },
   "file_extension": ".py",
   "mimetype": "text/x-python",
   "name": "python",
   "nbconvert_exporter": "python",
   "pygments_lexer": "ipython3",
   "version": "3.7.3"
  }
 },
 "nbformat": 4,
 "nbformat_minor": 2
}
